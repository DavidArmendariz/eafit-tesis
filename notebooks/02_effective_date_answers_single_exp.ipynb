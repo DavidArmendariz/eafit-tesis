{
 "cells": [
  {
   "cell_type": "code",
   "execution_count": null,
   "metadata": {},
   "outputs": [
    {
     "name": "stdout",
     "output_type": "stream",
     "text": [
      "The autoreload extension is already loaded. To reload it, use:\n",
      "  %reload_ext autoreload\n"
     ]
    }
   ],
   "source": [
    "%load_ext autoreload\n",
    "%autoreload 2"
   ]
  },
  {
   "cell_type": "code",
   "execution_count": 29,
   "metadata": {},
   "outputs": [],
   "source": [
    "import os\n",
    "import sys"
   ]
  },
  {
   "cell_type": "markdown",
   "metadata": {},
   "source": [
    "Append the `grt_reader` repo so we can read modules from sibling directories.\n"
   ]
  },
  {
   "cell_type": "code",
   "execution_count": 30,
   "metadata": {},
   "outputs": [],
   "source": [
    "sys.path.append(os.path.abspath(os.path.join(\"..\")))"
   ]
  },
  {
   "cell_type": "code",
   "execution_count": 31,
   "metadata": {},
   "outputs": [],
   "source": [
    "import numpy as np\n",
    "import pandas as pd\n",
    "from utils.constants import question_ids_map\n",
    "from utils.process_lease import process_lease\n",
    "from utils.questions import (\n",
    "    construct_single_question_for_ai,\n",
    ")"
   ]
  },
  {
   "cell_type": "code",
   "execution_count": 32,
   "metadata": {},
   "outputs": [],
   "source": [
    "bucket_name = os.getenv(\"BUCKET_NAME\", \"\")\n",
    "index_name = os.getenv(\"INDEX_NAME\", \"\")"
   ]
  },
  {
   "cell_type": "code",
   "execution_count": 33,
   "metadata": {},
   "outputs": [
    {
     "name": "stdout",
     "output_type": "stream",
     "text": [
      "Bucket name: gaaprt-reader-dev\n",
      "Index name: development-gaaprt-reader-openai\n"
     ]
    }
   ],
   "source": [
    "print(f\"Bucket name: {bucket_name}\")\n",
    "print(f\"Index name: {index_name}\")"
   ]
  },
  {
   "cell_type": "markdown",
   "metadata": {},
   "source": [
    "Retrieve questions\n"
   ]
  },
  {
   "cell_type": "code",
   "execution_count": 34,
   "metadata": {},
   "outputs": [],
   "source": [
    "questions_df = pd.read_excel(\"../data/asc_842/grt_ai_reader_questions_v1.xlsx\")\n",
    "questions_df = questions_df.drop([\"encoding\"], axis=1)\n",
    "questions_df = questions_df.replace({np.nan: None})"
   ]
  },
  {
   "cell_type": "markdown",
   "metadata": {},
   "source": [
    "Retrieve answers file\n"
   ]
  },
  {
   "cell_type": "code",
   "execution_count": 35,
   "metadata": {},
   "outputs": [],
   "source": [
    "answers_df = pd.read_excel(\"../data/asc_842/lease_agreements_info/answers.xlsx\")"
   ]
  },
  {
   "cell_type": "markdown",
   "metadata": {},
   "source": [
    "Get questions to send to the AI\n"
   ]
  },
  {
   "cell_type": "code",
   "execution_count": 36,
   "metadata": {},
   "outputs": [],
   "source": [
    "question_id = question_ids_map[\"effective_date\"]\n",
    "question_df_filtered = questions_df[questions_df[\"id\"] == question_id]\n",
    "question_as_json = question_df_filtered.to_dict(orient=\"records\")[0]\n",
    "question_for_ai = construct_single_question_for_ai(question_as_json)"
   ]
  },
  {
   "cell_type": "code",
   "execution_count": 37,
   "metadata": {},
   "outputs": [],
   "source": [
    "file_name = \"lease036\"\n",
    "local_file = f\"../data/asc_842/lease_agreements/{file_name}.pdf\"\n",
    "file_key = f\"eafit/{file_name}.pdf\"\n",
    "namespace = f\"eafit_{file_name}\""
   ]
  },
  {
   "cell_type": "code",
   "execution_count": 38,
   "metadata": {},
   "outputs": [
    {
     "name": "stdout",
     "output_type": "stream",
     "text": [
      "Upload Successful: eafit/lease036.pdf\n",
      "Stored eafit/lease036.pdf in vector database with namespace eafit_lease036\n"
     ]
    }
   ],
   "source": [
    "result = process_lease(\n",
    "    local_file=local_file,\n",
    "    file_name=file_name,\n",
    "    file_key=file_key,\n",
    "    namespace=namespace,\n",
    "    question_for_ai=question_for_ai,\n",
    "    question_id=question_id,\n",
    "    answers_df=answers_df,\n",
    ")"
   ]
  },
  {
   "cell_type": "code",
   "execution_count": 39,
   "metadata": {},
   "outputs": [],
   "source": [
    "answer = result[\"answer\"]\n",
    "real_answer_unprocessed = result[\"real_answer_unprocessed\"]"
   ]
  },
  {
   "cell_type": "code",
   "execution_count": 40,
   "metadata": {},
   "outputs": [],
   "source": [
    "formatted_answer = real_answer_unprocessed.iloc[0].strftime(\"%Y-%m-%d\")"
   ]
  },
  {
   "cell_type": "code",
   "execution_count": 41,
   "metadata": {},
   "outputs": [
    {
     "data": {
      "text/plain": [
       "True"
      ]
     },
     "execution_count": 41,
     "metadata": {},
     "output_type": "execute_result"
    }
   ],
   "source": [
    "formatted_answer == answer"
   ]
  }
 ],
 "metadata": {
  "kernelspec": {
   "display_name": ".venv",
   "language": "python",
   "name": "python3"
  },
  "language_info": {
   "codemirror_mode": {
    "name": "ipython",
    "version": 3
   },
   "file_extension": ".py",
   "mimetype": "text/x-python",
   "name": "python",
   "nbconvert_exporter": "python",
   "pygments_lexer": "ipython3",
   "version": "3.11.5"
  }
 },
 "nbformat": 4,
 "nbformat_minor": 2
}
