{
 "cells": [
  {
   "cell_type": "code",
   "execution_count": null,
   "metadata": {},
   "outputs": [],
   "source": [
    "%load_ext autoreload\n",
    "%autoreload 2"
   ]
  },
  {
   "cell_type": "code",
   "execution_count": null,
   "metadata": {},
   "outputs": [],
   "source": [
    "import os\n",
    "import sys"
   ]
  },
  {
   "cell_type": "code",
   "execution_count": null,
   "metadata": {},
   "outputs": [],
   "source": [
    "sys.path.append(os.path.abspath(os.path.join(\"../../..\")))"
   ]
  },
  {
   "cell_type": "code",
   "execution_count": null,
   "metadata": {},
   "outputs": [],
   "source": [
    "import pandas as pd\n",
    "\n",
    "from notebooks.utils.constants import question_ids_map\n",
    "from notebooks.utils.simplified_experiment import SimplifiedExperiment"
   ]
  },
  {
   "cell_type": "markdown",
   "metadata": {},
   "source": [
    "Retrieve answers file\n"
   ]
  },
  {
   "cell_type": "code",
   "execution_count": null,
   "metadata": {},
   "outputs": [],
   "source": [
    "train_dataset = pd.read_excel(\"../../aggregated_results/train_dataset.xlsx\")\n",
    "test_dataset = pd.read_excel(\"../../aggregated_results/test_dataset.xlsx\")\n",
    "answers_df_train = pd.read_excel(\n",
    "    \"../../../data/asc_842/lease_agreements_info/answers.xlsx\"\n",
    ")\n",
    "answers_df_train = answers_df_train.iloc[train_dataset[\"Lease\"] - 1]\n",
    "answers_df_test = pd.read_excel(\n",
    "    \"../../../data/asc_842/lease_agreements_info/answers.xlsx\"\n",
    ")\n",
    "answers_df_test = answers_df_test.iloc[test_dataset[\"Lease\"] - 1]"
   ]
  },
  {
   "cell_type": "markdown",
   "metadata": {},
   "source": [
    "Get questions to send to the AI\n"
   ]
  },
  {
   "cell_type": "code",
   "execution_count": null,
   "metadata": {},
   "outputs": [],
   "source": [
    "question_id = question_ids_map[\"option_to_extend\"]"
   ]
  },
  {
   "cell_type": "code",
   "execution_count": null,
   "metadata": {},
   "outputs": [],
   "source": [
    "template_string = \"\"\"\n",
    "Does the lease contract grant the lessee the option to extend or renew the lease beyond it stated term? Provide the answer in the answer_boolean field.\n",
    "Context: {context}\n",
    "\"\"\""
   ]
  },
  {
   "cell_type": "markdown",
   "metadata": {},
   "source": [
    "## Variation 1:\n",
    "\n",
    "- gpt-4o-mini\n",
    "- text-embedding-3-large\n",
    "- structured outputs\n",
    "- LLM filters\n"
   ]
  },
  {
   "cell_type": "code",
   "execution_count": null,
   "metadata": {},
   "outputs": [],
   "source": [
    "experiment = SimplifiedExperiment(\n",
    "    answers_df=answers_df_train,\n",
    "    question_id=question_id,\n",
    "    index_name=\"eafit-text-embedding-3-large\",\n",
    "    csv_results_filename=\"results/option_to_extend_prompt_tuning_train_v1.csv\",\n",
    "    template_string=template_string,\n",
    "    retriever_question=\"Find information about extending or renewing the lease\",\n",
    "    use_llm_filter=True,\n",
    "    boolean_question=True,\n",
    "    numbers_list=[str(i).zfill(3) for i in (answers_df_train.index + 1).to_list()],\n",
    ")\n",
    "experiment.run()"
   ]
  },
  {
   "cell_type": "code",
   "execution_count": null,
   "metadata": {},
   "outputs": [],
   "source": [
    "experiment = SimplifiedExperiment(\n",
    "    answers_df=answers_df_test,\n",
    "    question_id=question_id,\n",
    "    index_name=\"eafit-text-embedding-3-large\",\n",
    "    csv_results_filename=\"results/option_to_extend_prompt_tuning_test_v1.csv\",\n",
    "    template_string=template_string,\n",
    "    retriever_question=\"Find information about extending or renewing the lease\",\n",
    "    use_llm_filter=True,\n",
    "    boolean_question=True,\n",
    "    numbers_list=[str(i).zfill(3) for i in (answers_df_test.index + 1).to_list()],\n",
    ")\n",
    "experiment.run()"
   ]
  }
 ],
 "metadata": {
  "kernelspec": {
   "display_name": ".venv",
   "language": "python",
   "name": "python3"
  },
  "language_info": {
   "codemirror_mode": {
    "name": "ipython",
    "version": 3
   },
   "file_extension": ".py",
   "mimetype": "text/x-python",
   "name": "python",
   "nbconvert_exporter": "python",
   "pygments_lexer": "ipython3",
   "version": "3.11.8"
  }
 },
 "nbformat": 4,
 "nbformat_minor": 2
}
