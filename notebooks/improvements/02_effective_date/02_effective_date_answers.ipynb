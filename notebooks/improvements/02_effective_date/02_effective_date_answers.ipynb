{
 "cells": [
  {
   "cell_type": "code",
   "execution_count": 1,
   "metadata": {},
   "outputs": [],
   "source": [
    "%load_ext autoreload\n",
    "%autoreload 2"
   ]
  },
  {
   "cell_type": "code",
   "execution_count": 2,
   "metadata": {},
   "outputs": [],
   "source": [
    "import os\n",
    "import sys"
   ]
  },
  {
   "cell_type": "code",
   "execution_count": 3,
   "metadata": {},
   "outputs": [],
   "source": [
    "sys.path.append(os.path.abspath(os.path.join(\"../../..\")))"
   ]
  },
  {
   "cell_type": "code",
   "execution_count": 4,
   "metadata": {},
   "outputs": [
    {
     "name": "stderr",
     "output_type": "stream",
     "text": [
      "/Users/david/eafit/eafit-tesis/.venv/lib/python3.11/site-packages/pinecone/data/index.py:1: TqdmWarning: IProgress not found. Please update jupyter and ipywidgets. See https://ipywidgets.readthedocs.io/en/stable/user_install.html\n",
      "  from tqdm.autonotebook import tqdm\n"
     ]
    }
   ],
   "source": [
    "import pandas as pd\n",
    "\n",
    "from notebooks.utils.constants import question_ids_map\n",
    "from notebooks.utils.simplified_experiment import SimplifiedExperiment"
   ]
  },
  {
   "cell_type": "markdown",
   "metadata": {},
   "source": [
    "Retrieve answers file\n"
   ]
  },
  {
   "cell_type": "code",
   "execution_count": 5,
   "metadata": {},
   "outputs": [],
   "source": [
    "train_dataset = pd.read_excel(\"../../aggregated_results/train_dataset.xlsx\")\n",
    "test_dataset = pd.read_excel(\"../../aggregated_results/test_dataset.xlsx\")\n",
    "answers_df_train = pd.read_excel(\n",
    "    \"../../../data/asc_842/lease_agreements_info/answers.xlsx\"\n",
    ")\n",
    "answers_df_train = answers_df_train.iloc[train_dataset[\"Lease\"] - 1]\n",
    "answers_df_test = pd.read_excel(\n",
    "    \"../../../data/asc_842/lease_agreements_info/answers.xlsx\"\n",
    ")\n",
    "answers_df_test = answers_df_test.iloc[test_dataset[\"Lease\"] - 1]"
   ]
  },
  {
   "cell_type": "markdown",
   "metadata": {},
   "source": [
    "Get questions to send to the AI\n"
   ]
  },
  {
   "cell_type": "code",
   "execution_count": 6,
   "metadata": {},
   "outputs": [],
   "source": [
    "question_id = question_ids_map[\"effective_date\"]"
   ]
  },
  {
   "cell_type": "code",
   "execution_count": 7,
   "metadata": {},
   "outputs": [],
   "source": [
    "template_string = \"\"\"On what date was the contract executed? This could the date the document was signed, or if that date is unavailable its the date on which the agreement was entered into or is dated. Provide the answer in the answer_date field in the format YYYY-MM-DD.\n",
    "Context: {context}\n",
    "\"\"\""
   ]
  },
  {
   "cell_type": "markdown",
   "metadata": {},
   "source": [
    "## Variant 2\n",
    "\n",
    "- gpt-4o-mini\n",
    "- text-embedding-3-large\n",
    "- structured outputs\n",
    "- temperature 0.1\n"
   ]
  },
  {
   "cell_type": "code",
   "execution_count": null,
   "metadata": {},
   "outputs": [
    {
     "name": "stdout",
     "output_type": "stream",
     "text": [
      "Lease: lease068\n",
      "Answer: 2019-11-02\n",
      "Real answer: 2017-02-02\n",
      "INCORRECT\n",
      "----------------------------------------------------\n",
      "Lease: lease076\n",
      "Answer: 2018-06-28\n",
      "Real answer: 2019-12-20\n",
      "INCORRECT\n",
      "----------------------------------------------------\n",
      "Lease: lease022\n",
      "Answer: 2023-10-01\n",
      "Real answer: 2021-12-20\n",
      "INCORRECT\n",
      "----------------------------------------------------\n",
      "Lease: lease092\n",
      "Answer: 2020-12-15\n",
      "Real answer: 2021-02-26\n",
      "INCORRECT\n",
      "----------------------------------------------------\n",
      "Lease: lease099\n",
      "Answer: 2020-02-01\n",
      "Real answer: 2020-01-09\n",
      "INCORRECT\n",
      "----------------------------------------------------\n",
      "Lease: lease080\n",
      "Answer: 2019-10-31\n",
      "Real answer: 2019-10-31\n",
      "CORRECT\n",
      "----------------------------------------------------\n",
      "Lease: lease084\n",
      "Answer: 2015-10-01\n",
      "Real answer: 2015-10-19\n",
      "INCORRECT\n",
      "----------------------------------------------------\n",
      "Lease: lease039\n",
      "Answer: 2021-11-01\n",
      "Real answer: 2021-09-24\n",
      "INCORRECT\n",
      "----------------------------------------------------\n",
      "Lease: lease004\n",
      "Answer: 2019-05-01\n",
      "Real answer: 2015-06-20\n",
      "INCORRECT\n",
      "----------------------------------------------------\n",
      "Lease: lease011\n",
      "Answer: 2023-10-01\n",
      "Real answer: 2024-03-01\n",
      "INCORRECT\n",
      "----------------------------------------------------\n",
      "Lease: lease069\n",
      "Answer: 2021-01-06\n",
      "Real answer: 2020-07-24\n",
      "INCORRECT\n",
      "----------------------------------------------------\n",
      "Lease: lease001\n",
      "Answer: 2022-01-25\n",
      "Real answer: 2022-01-25\n",
      "CORRECT\n",
      "----------------------------------------------------\n"
     ]
    }
   ],
   "source": [
    "experiment = SimplifiedExperiment(\n",
    "    answers_df=answers_df_train,\n",
    "    question_id=question_id,\n",
    "    index_name=\"eafit-text-embedding-3-large\",\n",
    "    date_question=True,\n",
    "    csv_results_filename=\"results/effective_date_prompt_tuning_train_v2.csv\",\n",
    "    template_string=template_string,\n",
    "    retriever_question=\"What are all the dates in this document?\",\n",
    "    use_llm_filter=True,\n",
    "    temperature=0.1,\n",
    "    numbers_list=[str(i).zfill(3) for i in (answers_df_train.index + 1).to_list()],\n",
    ")\n",
    "experiment.run()"
   ]
  },
  {
   "cell_type": "code",
   "execution_count": null,
   "metadata": {},
   "outputs": [],
   "source": [
    "experiment = SimplifiedExperiment(\n",
    "    answers_df=answers_df_test,\n",
    "    question_id=question_id,\n",
    "    index_name=\"eafit-text-embedding-3-large\",\n",
    "    date_question=True,\n",
    "    csv_results_filename=\"results/effective_date_prompt_tuning_test_v2.csv\",\n",
    "    template_string=template_string,\n",
    "    retriever_question=\"What are all the dates in this document?\",\n",
    "    use_llm_filter=True,\n",
    "    temperature=0.1,\n",
    "    numbers_list=[str(i).zfill(3) for i in (answers_df_test.index + 1).to_list()],\n",
    ")\n",
    "experiment.run()"
   ]
  }
 ],
 "metadata": {
  "kernelspec": {
   "display_name": ".venv",
   "language": "python",
   "name": "python3"
  },
  "language_info": {
   "codemirror_mode": {
    "name": "ipython",
    "version": 3
   },
   "file_extension": ".py",
   "mimetype": "text/x-python",
   "name": "python",
   "nbconvert_exporter": "python",
   "pygments_lexer": "ipython3",
   "version": "3.11.8"
  }
 },
 "nbformat": 4,
 "nbformat_minor": 2
}
