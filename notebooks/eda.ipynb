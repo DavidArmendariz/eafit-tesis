{
 "cells": [
  {
   "cell_type": "code",
   "execution_count": 1,
   "metadata": {},
   "outputs": [],
   "source": [
    "%load_ext autoreload\n",
    "%autoreload 2\n"
   ]
  },
  {
   "cell_type": "code",
   "execution_count": 2,
   "metadata": {},
   "outputs": [],
   "source": [
    "import os\n",
    "\n",
    "import pandas as pd\n",
    "import plotly.express as px\n",
    "import PyPDF2\n",
    "import tiktoken\n",
    "from utils.tokens import num_tokens_from_string\n"
   ]
  },
  {
   "cell_type": "code",
   "execution_count": 3,
   "metadata": {},
   "outputs": [],
   "source": [
    "folder_path = \"data\""
   ]
  },
  {
   "cell_type": "markdown",
   "metadata": {},
   "source": [
    "Now we are going to do the same but including the tokens.\n"
   ]
  },
  {
   "cell_type": "code",
   "execution_count": 4,
   "metadata": {},
   "outputs": [],
   "source": [
    "def get_pdfs_data(folder_path, encoding):\n",
    "    pdf_files = sorted(\n",
    "        [\n",
    "            os.path.join(folder_path, f)\n",
    "            for f in os.listdir(folder_path)\n",
    "            if f.endswith(\".pdf\")\n",
    "        ]\n",
    "    )\n",
    "    pdfs_data = []\n",
    "    for file in pdf_files:\n",
    "        pdf = PyPDF2.PdfReader(open(file, \"rb\"))\n",
    "        pdf_pages = len(pdf.pages)\n",
    "        filename = os.path.basename(file)\n",
    "        number_of_words = 0\n",
    "        number_of_tokens = 0\n",
    "        for i in range(pdf_pages):\n",
    "            page = pdf.pages[i]\n",
    "            text_in_page = page.extract_text()\n",
    "            words = text_in_page.split()\n",
    "            number_of_words += len(words)\n",
    "            number_of_tokens += num_tokens_from_string(text_in_page, encoding=encoding)\n",
    "        pdfs_data.append(\n",
    "            {\n",
    "                \"filename\": filename,\n",
    "                \"number_of_pages\": pdf_pages,\n",
    "                \"number_of_words\": number_of_words,\n",
    "                \"number_of_tokens\": number_of_tokens,\n",
    "            }\n",
    "        )\n",
    "\n",
    "    return pdfs_data"
   ]
  },
  {
   "cell_type": "markdown",
   "metadata": {},
   "source": [
    "The \"cl100k_base\" encoding is the one used for text-embedding-ada-002, text-embedding-3-small and text-embedding-3-large, so the number of tokens is the same for all of these models.\n"
   ]
  },
  {
   "cell_type": "code",
   "execution_count": 5,
   "metadata": {},
   "outputs": [],
   "source": [
    "encoding = tiktoken.get_encoding(\"cl100k_base\")"
   ]
  },
  {
   "cell_type": "code",
   "execution_count": 6,
   "metadata": {},
   "outputs": [],
   "source": [
    "result = get_pdfs_data(\n",
    "    folder_path=\"../data/asc_842/lease_agreements/\", encoding=encoding\n",
    ")"
   ]
  },
  {
   "cell_type": "code",
   "execution_count": 7,
   "metadata": {},
   "outputs": [],
   "source": [
    "df = pd.DataFrame(result)"
   ]
  },
  {
   "cell_type": "code",
   "execution_count": 8,
   "metadata": {},
   "outputs": [
    {
     "data": {
      "text/html": [
       "<div>\n",
       "<style scoped>\n",
       "    .dataframe tbody tr th:only-of-type {\n",
       "        vertical-align: middle;\n",
       "    }\n",
       "\n",
       "    .dataframe tbody tr th {\n",
       "        vertical-align: top;\n",
       "    }\n",
       "\n",
       "    .dataframe thead th {\n",
       "        text-align: right;\n",
       "    }\n",
       "</style>\n",
       "<table border=\"1\" class=\"dataframe\">\n",
       "  <thead>\n",
       "    <tr style=\"text-align: right;\">\n",
       "      <th></th>\n",
       "      <th>filename</th>\n",
       "      <th>number_of_pages</th>\n",
       "      <th>number_of_words</th>\n",
       "      <th>number_of_tokens</th>\n",
       "    </tr>\n",
       "  </thead>\n",
       "  <tbody>\n",
       "    <tr>\n",
       "      <th>0</th>\n",
       "      <td>lease001.pdf</td>\n",
       "      <td>8</td>\n",
       "      <td>4645</td>\n",
       "      <td>9221</td>\n",
       "    </tr>\n",
       "    <tr>\n",
       "      <th>1</th>\n",
       "      <td>lease002.pdf</td>\n",
       "      <td>26</td>\n",
       "      <td>8693</td>\n",
       "      <td>17479</td>\n",
       "    </tr>\n",
       "    <tr>\n",
       "      <th>2</th>\n",
       "      <td>lease003.pdf</td>\n",
       "      <td>25</td>\n",
       "      <td>8741</td>\n",
       "      <td>17356</td>\n",
       "    </tr>\n",
       "    <tr>\n",
       "      <th>3</th>\n",
       "      <td>lease004.pdf</td>\n",
       "      <td>124</td>\n",
       "      <td>47873</td>\n",
       "      <td>98598</td>\n",
       "    </tr>\n",
       "    <tr>\n",
       "      <th>4</th>\n",
       "      <td>lease005.pdf</td>\n",
       "      <td>28</td>\n",
       "      <td>14391</td>\n",
       "      <td>31138</td>\n",
       "    </tr>\n",
       "    <tr>\n",
       "      <th>...</th>\n",
       "      <td>...</td>\n",
       "      <td>...</td>\n",
       "      <td>...</td>\n",
       "      <td>...</td>\n",
       "    </tr>\n",
       "    <tr>\n",
       "      <th>95</th>\n",
       "      <td>lease096.pdf</td>\n",
       "      <td>18</td>\n",
       "      <td>8227</td>\n",
       "      <td>16398</td>\n",
       "    </tr>\n",
       "    <tr>\n",
       "      <th>96</th>\n",
       "      <td>lease097.pdf</td>\n",
       "      <td>6</td>\n",
       "      <td>6437</td>\n",
       "      <td>13356</td>\n",
       "    </tr>\n",
       "    <tr>\n",
       "      <th>97</th>\n",
       "      <td>lease098.pdf</td>\n",
       "      <td>5</td>\n",
       "      <td>5190</td>\n",
       "      <td>9826</td>\n",
       "    </tr>\n",
       "    <tr>\n",
       "      <th>98</th>\n",
       "      <td>lease099.pdf</td>\n",
       "      <td>18</td>\n",
       "      <td>7900</td>\n",
       "      <td>15539</td>\n",
       "    </tr>\n",
       "    <tr>\n",
       "      <th>99</th>\n",
       "      <td>lease100.pdf</td>\n",
       "      <td>3</td>\n",
       "      <td>2579</td>\n",
       "      <td>5213</td>\n",
       "    </tr>\n",
       "  </tbody>\n",
       "</table>\n",
       "<p>100 rows × 4 columns</p>\n",
       "</div>"
      ],
      "text/plain": [
       "        filename  number_of_pages  number_of_words  number_of_tokens\n",
       "0   lease001.pdf                8             4645              9221\n",
       "1   lease002.pdf               26             8693             17479\n",
       "2   lease003.pdf               25             8741             17356\n",
       "3   lease004.pdf              124            47873             98598\n",
       "4   lease005.pdf               28            14391             31138\n",
       "..           ...              ...              ...               ...\n",
       "95  lease096.pdf               18             8227             16398\n",
       "96  lease097.pdf                6             6437             13356\n",
       "97  lease098.pdf                5             5190              9826\n",
       "98  lease099.pdf               18             7900             15539\n",
       "99  lease100.pdf                3             2579              5213\n",
       "\n",
       "[100 rows x 4 columns]"
      ]
     },
     "execution_count": 8,
     "metadata": {},
     "output_type": "execute_result"
    }
   ],
   "source": [
    "df"
   ]
  },
  {
   "cell_type": "code",
   "execution_count": 9,
   "metadata": {},
   "outputs": [
    {
     "name": "stderr",
     "output_type": "stream",
     "text": [
      "/tmp/ipykernel_515117/1736006458.py:2: SettingWithCopyWarning: \n",
      "A value is trying to be set on a copy of a slice from a DataFrame\n",
      "\n",
      "See the caveats in the documentation: https://pandas.pydata.org/pandas-docs/stable/user_guide/indexing.html#returning-a-view-versus-a-copy\n",
      "  df_metadata.rename(\n"
     ]
    }
   ],
   "source": [
    "df_metadata = df[[\"filename\", \"number_of_pages\", \"number_of_words\"]]\n",
    "df_metadata.rename(\n",
    "    columns={\n",
    "        \"filename\": \"Nombre de archivo\",\n",
    "        \"number_of_pages\": \"Número de páginas\",\n",
    "        \"number_of_words\": \"Número de palabras\",\n",
    "    },\n",
    "    inplace=True,\n",
    ")\n",
    "df_metadata.to_excel(\"metadata.xlsx\", index=False)"
   ]
  },
  {
   "cell_type": "code",
   "execution_count": 32,
   "metadata": {},
   "outputs": [
    {
     "name": "stdout",
     "output_type": "stream",
     "text": [
      "count    100.000000\n",
      "mean      22.880000\n",
      "std       20.809516\n",
      "min        2.000000\n",
      "25%        7.750000\n",
      "50%       16.000000\n",
      "75%       30.000000\n",
      "max      124.000000\n",
      "Name: number_of_pages, dtype: float64\n"
     ]
    }
   ],
   "source": [
    "statistics_number_of_pages = df[\"number_of_pages\"].describe()\n",
    "\n",
    "print(statistics_number_of_pages)"
   ]
  },
  {
   "cell_type": "code",
   "execution_count": 31,
   "metadata": {},
   "outputs": [
    {
     "name": "stdout",
     "output_type": "stream",
     "text": [
      "count      100.000000\n",
      "mean     10534.190000\n",
      "std       9668.317767\n",
      "min        779.000000\n",
      "25%       4678.750000\n",
      "50%       6976.000000\n",
      "75%      13255.750000\n",
      "max      47873.000000\n",
      "Name: number_of_words, dtype: float64\n"
     ]
    }
   ],
   "source": [
    "statistics_number_of_words = df[\"number_of_words\"].describe()\n",
    "\n",
    "print(statistics_number_of_words)"
   ]
  },
  {
   "cell_type": "code",
   "execution_count": 29,
   "metadata": {},
   "outputs": [
    {
     "data": {
      "application/vnd.plotly.v1+json": {
       "config": {
        "plotlyServerURL": "https://plot.ly"
       },
       "data": [
        {
         "alignmentgroup": "True",
         "bingroup": "x",
         "hovertemplate": "Número de tokens=%{x}<br>count=%{y}<extra></extra>",
         "legendgroup": "",
         "marker": {
          "color": "#636efa",
          "pattern": {
           "shape": ""
          }
         },
         "name": "",
         "nbinsx": 20,
         "offsetgroup": "",
         "orientation": "v",
         "showlegend": false,
         "type": "histogram",
         "x": [
          9221,
          17479,
          17356,
          98598,
          31138,
          13459,
          49959,
          17918,
          10338,
          17778,
          25692,
          14382,
          14594,
          35305,
          27273,
          52533,
          46655,
          33147,
          31183,
          49613,
          38131,
          95433,
          44122,
          10703,
          29218,
          45331,
          12335,
          16848,
          14815,
          32208,
          76323,
          72708,
          9452,
          9443,
          9459,
          26332,
          14473,
          50511,
          13372,
          63354,
          63354,
          20659,
          44720,
          11503,
          20785,
          18175,
          9192,
          8191,
          17128,
          41842,
          6330,
          13438,
          13464,
          16228,
          6366,
          9437,
          17505,
          10572,
          10241,
          9033,
          25486,
          6323,
          10094,
          4207,
          4239,
          9059,
          5212,
          8538,
          2775,
          7243,
          8859,
          9064,
          3860,
          1602,
          32720,
          3330,
          26263,
          5789,
          3276,
          21672,
          13698,
          13758,
          5772,
          26263,
          32689,
          3857,
          3849,
          8831,
          17488,
          21646,
          12456,
          3273,
          10889,
          9494,
          5475,
          16398,
          13356,
          9826,
          15539,
          5213
         ],
         "xaxis": "x",
         "yaxis": "y"
        }
       ],
       "layout": {
        "barmode": "relative",
        "legend": {
         "tracegroupgap": 0
        },
        "template": {
         "data": {
          "bar": [
           {
            "error_x": {
             "color": "#2a3f5f"
            },
            "error_y": {
             "color": "#2a3f5f"
            },
            "marker": {
             "line": {
              "color": "#E5ECF6",
              "width": 0.5
             },
             "pattern": {
              "fillmode": "overlay",
              "size": 10,
              "solidity": 0.2
             }
            },
            "type": "bar"
           }
          ],
          "barpolar": [
           {
            "marker": {
             "line": {
              "color": "#E5ECF6",
              "width": 0.5
             },
             "pattern": {
              "fillmode": "overlay",
              "size": 10,
              "solidity": 0.2
             }
            },
            "type": "barpolar"
           }
          ],
          "carpet": [
           {
            "aaxis": {
             "endlinecolor": "#2a3f5f",
             "gridcolor": "white",
             "linecolor": "white",
             "minorgridcolor": "white",
             "startlinecolor": "#2a3f5f"
            },
            "baxis": {
             "endlinecolor": "#2a3f5f",
             "gridcolor": "white",
             "linecolor": "white",
             "minorgridcolor": "white",
             "startlinecolor": "#2a3f5f"
            },
            "type": "carpet"
           }
          ],
          "choropleth": [
           {
            "colorbar": {
             "outlinewidth": 0,
             "ticks": ""
            },
            "type": "choropleth"
           }
          ],
          "contour": [
           {
            "colorbar": {
             "outlinewidth": 0,
             "ticks": ""
            },
            "colorscale": [
             [
              0,
              "#0d0887"
             ],
             [
              0.1111111111111111,
              "#46039f"
             ],
             [
              0.2222222222222222,
              "#7201a8"
             ],
             [
              0.3333333333333333,
              "#9c179e"
             ],
             [
              0.4444444444444444,
              "#bd3786"
             ],
             [
              0.5555555555555556,
              "#d8576b"
             ],
             [
              0.6666666666666666,
              "#ed7953"
             ],
             [
              0.7777777777777778,
              "#fb9f3a"
             ],
             [
              0.8888888888888888,
              "#fdca26"
             ],
             [
              1,
              "#f0f921"
             ]
            ],
            "type": "contour"
           }
          ],
          "contourcarpet": [
           {
            "colorbar": {
             "outlinewidth": 0,
             "ticks": ""
            },
            "type": "contourcarpet"
           }
          ],
          "heatmap": [
           {
            "colorbar": {
             "outlinewidth": 0,
             "ticks": ""
            },
            "colorscale": [
             [
              0,
              "#0d0887"
             ],
             [
              0.1111111111111111,
              "#46039f"
             ],
             [
              0.2222222222222222,
              "#7201a8"
             ],
             [
              0.3333333333333333,
              "#9c179e"
             ],
             [
              0.4444444444444444,
              "#bd3786"
             ],
             [
              0.5555555555555556,
              "#d8576b"
             ],
             [
              0.6666666666666666,
              "#ed7953"
             ],
             [
              0.7777777777777778,
              "#fb9f3a"
             ],
             [
              0.8888888888888888,
              "#fdca26"
             ],
             [
              1,
              "#f0f921"
             ]
            ],
            "type": "heatmap"
           }
          ],
          "heatmapgl": [
           {
            "colorbar": {
             "outlinewidth": 0,
             "ticks": ""
            },
            "colorscale": [
             [
              0,
              "#0d0887"
             ],
             [
              0.1111111111111111,
              "#46039f"
             ],
             [
              0.2222222222222222,
              "#7201a8"
             ],
             [
              0.3333333333333333,
              "#9c179e"
             ],
             [
              0.4444444444444444,
              "#bd3786"
             ],
             [
              0.5555555555555556,
              "#d8576b"
             ],
             [
              0.6666666666666666,
              "#ed7953"
             ],
             [
              0.7777777777777778,
              "#fb9f3a"
             ],
             [
              0.8888888888888888,
              "#fdca26"
             ],
             [
              1,
              "#f0f921"
             ]
            ],
            "type": "heatmapgl"
           }
          ],
          "histogram": [
           {
            "marker": {
             "pattern": {
              "fillmode": "overlay",
              "size": 10,
              "solidity": 0.2
             }
            },
            "type": "histogram"
           }
          ],
          "histogram2d": [
           {
            "colorbar": {
             "outlinewidth": 0,
             "ticks": ""
            },
            "colorscale": [
             [
              0,
              "#0d0887"
             ],
             [
              0.1111111111111111,
              "#46039f"
             ],
             [
              0.2222222222222222,
              "#7201a8"
             ],
             [
              0.3333333333333333,
              "#9c179e"
             ],
             [
              0.4444444444444444,
              "#bd3786"
             ],
             [
              0.5555555555555556,
              "#d8576b"
             ],
             [
              0.6666666666666666,
              "#ed7953"
             ],
             [
              0.7777777777777778,
              "#fb9f3a"
             ],
             [
              0.8888888888888888,
              "#fdca26"
             ],
             [
              1,
              "#f0f921"
             ]
            ],
            "type": "histogram2d"
           }
          ],
          "histogram2dcontour": [
           {
            "colorbar": {
             "outlinewidth": 0,
             "ticks": ""
            },
            "colorscale": [
             [
              0,
              "#0d0887"
             ],
             [
              0.1111111111111111,
              "#46039f"
             ],
             [
              0.2222222222222222,
              "#7201a8"
             ],
             [
              0.3333333333333333,
              "#9c179e"
             ],
             [
              0.4444444444444444,
              "#bd3786"
             ],
             [
              0.5555555555555556,
              "#d8576b"
             ],
             [
              0.6666666666666666,
              "#ed7953"
             ],
             [
              0.7777777777777778,
              "#fb9f3a"
             ],
             [
              0.8888888888888888,
              "#fdca26"
             ],
             [
              1,
              "#f0f921"
             ]
            ],
            "type": "histogram2dcontour"
           }
          ],
          "mesh3d": [
           {
            "colorbar": {
             "outlinewidth": 0,
             "ticks": ""
            },
            "type": "mesh3d"
           }
          ],
          "parcoords": [
           {
            "line": {
             "colorbar": {
              "outlinewidth": 0,
              "ticks": ""
             }
            },
            "type": "parcoords"
           }
          ],
          "pie": [
           {
            "automargin": true,
            "type": "pie"
           }
          ],
          "scatter": [
           {
            "fillpattern": {
             "fillmode": "overlay",
             "size": 10,
             "solidity": 0.2
            },
            "type": "scatter"
           }
          ],
          "scatter3d": [
           {
            "line": {
             "colorbar": {
              "outlinewidth": 0,
              "ticks": ""
             }
            },
            "marker": {
             "colorbar": {
              "outlinewidth": 0,
              "ticks": ""
             }
            },
            "type": "scatter3d"
           }
          ],
          "scattercarpet": [
           {
            "marker": {
             "colorbar": {
              "outlinewidth": 0,
              "ticks": ""
             }
            },
            "type": "scattercarpet"
           }
          ],
          "scattergeo": [
           {
            "marker": {
             "colorbar": {
              "outlinewidth": 0,
              "ticks": ""
             }
            },
            "type": "scattergeo"
           }
          ],
          "scattergl": [
           {
            "marker": {
             "colorbar": {
              "outlinewidth": 0,
              "ticks": ""
             }
            },
            "type": "scattergl"
           }
          ],
          "scattermapbox": [
           {
            "marker": {
             "colorbar": {
              "outlinewidth": 0,
              "ticks": ""
             }
            },
            "type": "scattermapbox"
           }
          ],
          "scatterpolar": [
           {
            "marker": {
             "colorbar": {
              "outlinewidth": 0,
              "ticks": ""
             }
            },
            "type": "scatterpolar"
           }
          ],
          "scatterpolargl": [
           {
            "marker": {
             "colorbar": {
              "outlinewidth": 0,
              "ticks": ""
             }
            },
            "type": "scatterpolargl"
           }
          ],
          "scatterternary": [
           {
            "marker": {
             "colorbar": {
              "outlinewidth": 0,
              "ticks": ""
             }
            },
            "type": "scatterternary"
           }
          ],
          "surface": [
           {
            "colorbar": {
             "outlinewidth": 0,
             "ticks": ""
            },
            "colorscale": [
             [
              0,
              "#0d0887"
             ],
             [
              0.1111111111111111,
              "#46039f"
             ],
             [
              0.2222222222222222,
              "#7201a8"
             ],
             [
              0.3333333333333333,
              "#9c179e"
             ],
             [
              0.4444444444444444,
              "#bd3786"
             ],
             [
              0.5555555555555556,
              "#d8576b"
             ],
             [
              0.6666666666666666,
              "#ed7953"
             ],
             [
              0.7777777777777778,
              "#fb9f3a"
             ],
             [
              0.8888888888888888,
              "#fdca26"
             ],
             [
              1,
              "#f0f921"
             ]
            ],
            "type": "surface"
           }
          ],
          "table": [
           {
            "cells": {
             "fill": {
              "color": "#EBF0F8"
             },
             "line": {
              "color": "white"
             }
            },
            "header": {
             "fill": {
              "color": "#C8D4E3"
             },
             "line": {
              "color": "white"
             }
            },
            "type": "table"
           }
          ]
         },
         "layout": {
          "annotationdefaults": {
           "arrowcolor": "#2a3f5f",
           "arrowhead": 0,
           "arrowwidth": 1
          },
          "autotypenumbers": "strict",
          "coloraxis": {
           "colorbar": {
            "outlinewidth": 0,
            "ticks": ""
           }
          },
          "colorscale": {
           "diverging": [
            [
             0,
             "#8e0152"
            ],
            [
             0.1,
             "#c51b7d"
            ],
            [
             0.2,
             "#de77ae"
            ],
            [
             0.3,
             "#f1b6da"
            ],
            [
             0.4,
             "#fde0ef"
            ],
            [
             0.5,
             "#f7f7f7"
            ],
            [
             0.6,
             "#e6f5d0"
            ],
            [
             0.7,
             "#b8e186"
            ],
            [
             0.8,
             "#7fbc41"
            ],
            [
             0.9,
             "#4d9221"
            ],
            [
             1,
             "#276419"
            ]
           ],
           "sequential": [
            [
             0,
             "#0d0887"
            ],
            [
             0.1111111111111111,
             "#46039f"
            ],
            [
             0.2222222222222222,
             "#7201a8"
            ],
            [
             0.3333333333333333,
             "#9c179e"
            ],
            [
             0.4444444444444444,
             "#bd3786"
            ],
            [
             0.5555555555555556,
             "#d8576b"
            ],
            [
             0.6666666666666666,
             "#ed7953"
            ],
            [
             0.7777777777777778,
             "#fb9f3a"
            ],
            [
             0.8888888888888888,
             "#fdca26"
            ],
            [
             1,
             "#f0f921"
            ]
           ],
           "sequentialminus": [
            [
             0,
             "#0d0887"
            ],
            [
             0.1111111111111111,
             "#46039f"
            ],
            [
             0.2222222222222222,
             "#7201a8"
            ],
            [
             0.3333333333333333,
             "#9c179e"
            ],
            [
             0.4444444444444444,
             "#bd3786"
            ],
            [
             0.5555555555555556,
             "#d8576b"
            ],
            [
             0.6666666666666666,
             "#ed7953"
            ],
            [
             0.7777777777777778,
             "#fb9f3a"
            ],
            [
             0.8888888888888888,
             "#fdca26"
            ],
            [
             1,
             "#f0f921"
            ]
           ]
          },
          "colorway": [
           "#636efa",
           "#EF553B",
           "#00cc96",
           "#ab63fa",
           "#FFA15A",
           "#19d3f3",
           "#FF6692",
           "#B6E880",
           "#FF97FF",
           "#FECB52"
          ],
          "font": {
           "color": "#2a3f5f"
          },
          "geo": {
           "bgcolor": "white",
           "lakecolor": "white",
           "landcolor": "#E5ECF6",
           "showlakes": true,
           "showland": true,
           "subunitcolor": "white"
          },
          "hoverlabel": {
           "align": "left"
          },
          "hovermode": "closest",
          "mapbox": {
           "style": "light"
          },
          "paper_bgcolor": "white",
          "plot_bgcolor": "#E5ECF6",
          "polar": {
           "angularaxis": {
            "gridcolor": "white",
            "linecolor": "white",
            "ticks": ""
           },
           "bgcolor": "#E5ECF6",
           "radialaxis": {
            "gridcolor": "white",
            "linecolor": "white",
            "ticks": ""
           }
          },
          "scene": {
           "xaxis": {
            "backgroundcolor": "#E5ECF6",
            "gridcolor": "white",
            "gridwidth": 2,
            "linecolor": "white",
            "showbackground": true,
            "ticks": "",
            "zerolinecolor": "white"
           },
           "yaxis": {
            "backgroundcolor": "#E5ECF6",
            "gridcolor": "white",
            "gridwidth": 2,
            "linecolor": "white",
            "showbackground": true,
            "ticks": "",
            "zerolinecolor": "white"
           },
           "zaxis": {
            "backgroundcolor": "#E5ECF6",
            "gridcolor": "white",
            "gridwidth": 2,
            "linecolor": "white",
            "showbackground": true,
            "ticks": "",
            "zerolinecolor": "white"
           }
          },
          "shapedefaults": {
           "line": {
            "color": "#2a3f5f"
           }
          },
          "ternary": {
           "aaxis": {
            "gridcolor": "white",
            "linecolor": "white",
            "ticks": ""
           },
           "baxis": {
            "gridcolor": "white",
            "linecolor": "white",
            "ticks": ""
           },
           "bgcolor": "#E5ECF6",
           "caxis": {
            "gridcolor": "white",
            "linecolor": "white",
            "ticks": ""
           }
          },
          "title": {
           "x": 0.05
          },
          "xaxis": {
           "automargin": true,
           "gridcolor": "white",
           "linecolor": "white",
           "ticks": "",
           "title": {
            "standoff": 15
           },
           "zerolinecolor": "white",
           "zerolinewidth": 2
          },
          "yaxis": {
           "automargin": true,
           "gridcolor": "white",
           "linecolor": "white",
           "ticks": "",
           "title": {
            "standoff": 15
           },
           "zerolinecolor": "white",
           "zerolinewidth": 2
          }
         }
        },
        "title": {
         "text": "Distribución del número de tokens"
        },
        "xaxis": {
         "anchor": "y",
         "domain": [
          0,
          1
         ],
         "title": {
          "text": "Número de tokens"
         }
        },
        "yaxis": {
         "anchor": "x",
         "domain": [
          0,
          1
         ],
         "title": {
          "text": "Conteo"
         }
        }
       }
      },
      "text/html": [
       "<div>                            <div id=\"69750527-e82b-46b7-8a73-7a4214ebacd9\" class=\"plotly-graph-div\" style=\"height:525px; width:100%;\"></div>            <script type=\"text/javascript\">                require([\"plotly\"], function(Plotly) {                    window.PLOTLYENV=window.PLOTLYENV || {};                                    if (document.getElementById(\"69750527-e82b-46b7-8a73-7a4214ebacd9\")) {                    Plotly.newPlot(                        \"69750527-e82b-46b7-8a73-7a4214ebacd9\",                        [{\"alignmentgroup\":\"True\",\"bingroup\":\"x\",\"hovertemplate\":\"N\\u00famero de tokens=%{x}\\u003cbr\\u003ecount=%{y}\\u003cextra\\u003e\\u003c\\u002fextra\\u003e\",\"legendgroup\":\"\",\"marker\":{\"color\":\"#636efa\",\"pattern\":{\"shape\":\"\"}},\"name\":\"\",\"nbinsx\":20,\"offsetgroup\":\"\",\"orientation\":\"v\",\"showlegend\":false,\"x\":[9221,17479,17356,98598,31138,13459,49959,17918,10338,17778,25692,14382,14594,35305,27273,52533,46655,33147,31183,49613,38131,95433,44122,10703,29218,45331,12335,16848,14815,32208,76323,72708,9452,9443,9459,26332,14473,50511,13372,63354,63354,20659,44720,11503,20785,18175,9192,8191,17128,41842,6330,13438,13464,16228,6366,9437,17505,10572,10241,9033,25486,6323,10094,4207,4239,9059,5212,8538,2775,7243,8859,9064,3860,1602,32720,3330,26263,5789,3276,21672,13698,13758,5772,26263,32689,3857,3849,8831,17488,21646,12456,3273,10889,9494,5475,16398,13356,9826,15539,5213],\"xaxis\":\"x\",\"yaxis\":\"y\",\"type\":\"histogram\"}],                        {\"template\":{\"data\":{\"histogram2dcontour\":[{\"type\":\"histogram2dcontour\",\"colorbar\":{\"outlinewidth\":0,\"ticks\":\"\"},\"colorscale\":[[0.0,\"#0d0887\"],[0.1111111111111111,\"#46039f\"],[0.2222222222222222,\"#7201a8\"],[0.3333333333333333,\"#9c179e\"],[0.4444444444444444,\"#bd3786\"],[0.5555555555555556,\"#d8576b\"],[0.6666666666666666,\"#ed7953\"],[0.7777777777777778,\"#fb9f3a\"],[0.8888888888888888,\"#fdca26\"],[1.0,\"#f0f921\"]]}],\"choropleth\":[{\"type\":\"choropleth\",\"colorbar\":{\"outlinewidth\":0,\"ticks\":\"\"}}],\"histogram2d\":[{\"type\":\"histogram2d\",\"colorbar\":{\"outlinewidth\":0,\"ticks\":\"\"},\"colorscale\":[[0.0,\"#0d0887\"],[0.1111111111111111,\"#46039f\"],[0.2222222222222222,\"#7201a8\"],[0.3333333333333333,\"#9c179e\"],[0.4444444444444444,\"#bd3786\"],[0.5555555555555556,\"#d8576b\"],[0.6666666666666666,\"#ed7953\"],[0.7777777777777778,\"#fb9f3a\"],[0.8888888888888888,\"#fdca26\"],[1.0,\"#f0f921\"]]}],\"heatmap\":[{\"type\":\"heatmap\",\"colorbar\":{\"outlinewidth\":0,\"ticks\":\"\"},\"colorscale\":[[0.0,\"#0d0887\"],[0.1111111111111111,\"#46039f\"],[0.2222222222222222,\"#7201a8\"],[0.3333333333333333,\"#9c179e\"],[0.4444444444444444,\"#bd3786\"],[0.5555555555555556,\"#d8576b\"],[0.6666666666666666,\"#ed7953\"],[0.7777777777777778,\"#fb9f3a\"],[0.8888888888888888,\"#fdca26\"],[1.0,\"#f0f921\"]]}],\"heatmapgl\":[{\"type\":\"heatmapgl\",\"colorbar\":{\"outlinewidth\":0,\"ticks\":\"\"},\"colorscale\":[[0.0,\"#0d0887\"],[0.1111111111111111,\"#46039f\"],[0.2222222222222222,\"#7201a8\"],[0.3333333333333333,\"#9c179e\"],[0.4444444444444444,\"#bd3786\"],[0.5555555555555556,\"#d8576b\"],[0.6666666666666666,\"#ed7953\"],[0.7777777777777778,\"#fb9f3a\"],[0.8888888888888888,\"#fdca26\"],[1.0,\"#f0f921\"]]}],\"contourcarpet\":[{\"type\":\"contourcarpet\",\"colorbar\":{\"outlinewidth\":0,\"ticks\":\"\"}}],\"contour\":[{\"type\":\"contour\",\"colorbar\":{\"outlinewidth\":0,\"ticks\":\"\"},\"colorscale\":[[0.0,\"#0d0887\"],[0.1111111111111111,\"#46039f\"],[0.2222222222222222,\"#7201a8\"],[0.3333333333333333,\"#9c179e\"],[0.4444444444444444,\"#bd3786\"],[0.5555555555555556,\"#d8576b\"],[0.6666666666666666,\"#ed7953\"],[0.7777777777777778,\"#fb9f3a\"],[0.8888888888888888,\"#fdca26\"],[1.0,\"#f0f921\"]]}],\"surface\":[{\"type\":\"surface\",\"colorbar\":{\"outlinewidth\":0,\"ticks\":\"\"},\"colorscale\":[[0.0,\"#0d0887\"],[0.1111111111111111,\"#46039f\"],[0.2222222222222222,\"#7201a8\"],[0.3333333333333333,\"#9c179e\"],[0.4444444444444444,\"#bd3786\"],[0.5555555555555556,\"#d8576b\"],[0.6666666666666666,\"#ed7953\"],[0.7777777777777778,\"#fb9f3a\"],[0.8888888888888888,\"#fdca26\"],[1.0,\"#f0f921\"]]}],\"mesh3d\":[{\"type\":\"mesh3d\",\"colorbar\":{\"outlinewidth\":0,\"ticks\":\"\"}}],\"scatter\":[{\"fillpattern\":{\"fillmode\":\"overlay\",\"size\":10,\"solidity\":0.2},\"type\":\"scatter\"}],\"parcoords\":[{\"type\":\"parcoords\",\"line\":{\"colorbar\":{\"outlinewidth\":0,\"ticks\":\"\"}}}],\"scatterpolargl\":[{\"type\":\"scatterpolargl\",\"marker\":{\"colorbar\":{\"outlinewidth\":0,\"ticks\":\"\"}}}],\"bar\":[{\"error_x\":{\"color\":\"#2a3f5f\"},\"error_y\":{\"color\":\"#2a3f5f\"},\"marker\":{\"line\":{\"color\":\"#E5ECF6\",\"width\":0.5},\"pattern\":{\"fillmode\":\"overlay\",\"size\":10,\"solidity\":0.2}},\"type\":\"bar\"}],\"scattergeo\":[{\"type\":\"scattergeo\",\"marker\":{\"colorbar\":{\"outlinewidth\":0,\"ticks\":\"\"}}}],\"scatterpolar\":[{\"type\":\"scatterpolar\",\"marker\":{\"colorbar\":{\"outlinewidth\":0,\"ticks\":\"\"}}}],\"histogram\":[{\"marker\":{\"pattern\":{\"fillmode\":\"overlay\",\"size\":10,\"solidity\":0.2}},\"type\":\"histogram\"}],\"scattergl\":[{\"type\":\"scattergl\",\"marker\":{\"colorbar\":{\"outlinewidth\":0,\"ticks\":\"\"}}}],\"scatter3d\":[{\"type\":\"scatter3d\",\"line\":{\"colorbar\":{\"outlinewidth\":0,\"ticks\":\"\"}},\"marker\":{\"colorbar\":{\"outlinewidth\":0,\"ticks\":\"\"}}}],\"scattermapbox\":[{\"type\":\"scattermapbox\",\"marker\":{\"colorbar\":{\"outlinewidth\":0,\"ticks\":\"\"}}}],\"scatterternary\":[{\"type\":\"scatterternary\",\"marker\":{\"colorbar\":{\"outlinewidth\":0,\"ticks\":\"\"}}}],\"scattercarpet\":[{\"type\":\"scattercarpet\",\"marker\":{\"colorbar\":{\"outlinewidth\":0,\"ticks\":\"\"}}}],\"carpet\":[{\"aaxis\":{\"endlinecolor\":\"#2a3f5f\",\"gridcolor\":\"white\",\"linecolor\":\"white\",\"minorgridcolor\":\"white\",\"startlinecolor\":\"#2a3f5f\"},\"baxis\":{\"endlinecolor\":\"#2a3f5f\",\"gridcolor\":\"white\",\"linecolor\":\"white\",\"minorgridcolor\":\"white\",\"startlinecolor\":\"#2a3f5f\"},\"type\":\"carpet\"}],\"table\":[{\"cells\":{\"fill\":{\"color\":\"#EBF0F8\"},\"line\":{\"color\":\"white\"}},\"header\":{\"fill\":{\"color\":\"#C8D4E3\"},\"line\":{\"color\":\"white\"}},\"type\":\"table\"}],\"barpolar\":[{\"marker\":{\"line\":{\"color\":\"#E5ECF6\",\"width\":0.5},\"pattern\":{\"fillmode\":\"overlay\",\"size\":10,\"solidity\":0.2}},\"type\":\"barpolar\"}],\"pie\":[{\"automargin\":true,\"type\":\"pie\"}]},\"layout\":{\"autotypenumbers\":\"strict\",\"colorway\":[\"#636efa\",\"#EF553B\",\"#00cc96\",\"#ab63fa\",\"#FFA15A\",\"#19d3f3\",\"#FF6692\",\"#B6E880\",\"#FF97FF\",\"#FECB52\"],\"font\":{\"color\":\"#2a3f5f\"},\"hovermode\":\"closest\",\"hoverlabel\":{\"align\":\"left\"},\"paper_bgcolor\":\"white\",\"plot_bgcolor\":\"#E5ECF6\",\"polar\":{\"bgcolor\":\"#E5ECF6\",\"angularaxis\":{\"gridcolor\":\"white\",\"linecolor\":\"white\",\"ticks\":\"\"},\"radialaxis\":{\"gridcolor\":\"white\",\"linecolor\":\"white\",\"ticks\":\"\"}},\"ternary\":{\"bgcolor\":\"#E5ECF6\",\"aaxis\":{\"gridcolor\":\"white\",\"linecolor\":\"white\",\"ticks\":\"\"},\"baxis\":{\"gridcolor\":\"white\",\"linecolor\":\"white\",\"ticks\":\"\"},\"caxis\":{\"gridcolor\":\"white\",\"linecolor\":\"white\",\"ticks\":\"\"}},\"coloraxis\":{\"colorbar\":{\"outlinewidth\":0,\"ticks\":\"\"}},\"colorscale\":{\"sequential\":[[0.0,\"#0d0887\"],[0.1111111111111111,\"#46039f\"],[0.2222222222222222,\"#7201a8\"],[0.3333333333333333,\"#9c179e\"],[0.4444444444444444,\"#bd3786\"],[0.5555555555555556,\"#d8576b\"],[0.6666666666666666,\"#ed7953\"],[0.7777777777777778,\"#fb9f3a\"],[0.8888888888888888,\"#fdca26\"],[1.0,\"#f0f921\"]],\"sequentialminus\":[[0.0,\"#0d0887\"],[0.1111111111111111,\"#46039f\"],[0.2222222222222222,\"#7201a8\"],[0.3333333333333333,\"#9c179e\"],[0.4444444444444444,\"#bd3786\"],[0.5555555555555556,\"#d8576b\"],[0.6666666666666666,\"#ed7953\"],[0.7777777777777778,\"#fb9f3a\"],[0.8888888888888888,\"#fdca26\"],[1.0,\"#f0f921\"]],\"diverging\":[[0,\"#8e0152\"],[0.1,\"#c51b7d\"],[0.2,\"#de77ae\"],[0.3,\"#f1b6da\"],[0.4,\"#fde0ef\"],[0.5,\"#f7f7f7\"],[0.6,\"#e6f5d0\"],[0.7,\"#b8e186\"],[0.8,\"#7fbc41\"],[0.9,\"#4d9221\"],[1,\"#276419\"]]},\"xaxis\":{\"gridcolor\":\"white\",\"linecolor\":\"white\",\"ticks\":\"\",\"title\":{\"standoff\":15},\"zerolinecolor\":\"white\",\"automargin\":true,\"zerolinewidth\":2},\"yaxis\":{\"gridcolor\":\"white\",\"linecolor\":\"white\",\"ticks\":\"\",\"title\":{\"standoff\":15},\"zerolinecolor\":\"white\",\"automargin\":true,\"zerolinewidth\":2},\"scene\":{\"xaxis\":{\"backgroundcolor\":\"#E5ECF6\",\"gridcolor\":\"white\",\"linecolor\":\"white\",\"showbackground\":true,\"ticks\":\"\",\"zerolinecolor\":\"white\",\"gridwidth\":2},\"yaxis\":{\"backgroundcolor\":\"#E5ECF6\",\"gridcolor\":\"white\",\"linecolor\":\"white\",\"showbackground\":true,\"ticks\":\"\",\"zerolinecolor\":\"white\",\"gridwidth\":2},\"zaxis\":{\"backgroundcolor\":\"#E5ECF6\",\"gridcolor\":\"white\",\"linecolor\":\"white\",\"showbackground\":true,\"ticks\":\"\",\"zerolinecolor\":\"white\",\"gridwidth\":2}},\"shapedefaults\":{\"line\":{\"color\":\"#2a3f5f\"}},\"annotationdefaults\":{\"arrowcolor\":\"#2a3f5f\",\"arrowhead\":0,\"arrowwidth\":1},\"geo\":{\"bgcolor\":\"white\",\"landcolor\":\"#E5ECF6\",\"subunitcolor\":\"white\",\"showland\":true,\"showlakes\":true,\"lakecolor\":\"white\"},\"title\":{\"x\":0.05},\"mapbox\":{\"style\":\"light\"}}},\"xaxis\":{\"anchor\":\"y\",\"domain\":[0.0,1.0],\"title\":{\"text\":\"N\\u00famero de tokens\"}},\"yaxis\":{\"anchor\":\"x\",\"domain\":[0.0,1.0],\"title\":{\"text\":\"Conteo\"}},\"legend\":{\"tracegroupgap\":0},\"title\":{\"text\":\"Distribuci\\u00f3n del n\\u00famero de tokens\"},\"barmode\":\"relative\"},                        {\"responsive\": true}                    ).then(function(){\n",
       "                            \n",
       "var gd = document.getElementById('69750527-e82b-46b7-8a73-7a4214ebacd9');\n",
       "var x = new MutationObserver(function (mutations, observer) {{\n",
       "        var display = window.getComputedStyle(gd).display;\n",
       "        if (!display || display === 'none') {{\n",
       "            console.log([gd, 'removed!']);\n",
       "            Plotly.purge(gd);\n",
       "            observer.disconnect();\n",
       "        }}\n",
       "}});\n",
       "\n",
       "// Listen for the removal of the full notebook cells\n",
       "var notebookContainer = gd.closest('#notebook-container');\n",
       "if (notebookContainer) {{\n",
       "    x.observe(notebookContainer, {childList: true});\n",
       "}}\n",
       "\n",
       "// Listen for the clearing of the current output cell\n",
       "var outputEl = gd.closest('.output');\n",
       "if (outputEl) {{\n",
       "    x.observe(outputEl, {childList: true});\n",
       "}}\n",
       "\n",
       "                        })                };                });            </script>        </div>"
      ]
     },
     "metadata": {},
     "output_type": "display_data"
    }
   ],
   "source": [
    "fig_tokens_hist = px.histogram(\n",
    "    df,\n",
    "    x=\"number_of_tokens\",\n",
    "    title=\"Distribución del número de tokens\",\n",
    "    labels={\"number_of_tokens\": \"Número de tokens\"},\n",
    "    nbins=20,\n",
    ")\n",
    "fig_tokens_hist.update_layout(yaxis_title=\"Conteo\")\n",
    "fig_tokens_hist.show()"
   ]
  },
  {
   "cell_type": "code",
   "execution_count": 33,
   "metadata": {},
   "outputs": [
    {
     "name": "stdout",
     "output_type": "stream",
     "text": [
      "count      100.000000\n",
      "mean     21157.360000\n",
      "std      19478.288773\n",
      "min       1602.000000\n",
      "25%       9062.750000\n",
      "50%      14070.000000\n",
      "75%      26567.250000\n",
      "max      98598.000000\n",
      "Name: number_of_tokens, dtype: float64\n"
     ]
    }
   ],
   "source": [
    "statistics_number_of_tokens = df[\"number_of_tokens\"].describe()\n",
    "\n",
    "print(statistics_number_of_tokens)"
   ]
  },
  {
   "cell_type": "markdown",
   "metadata": {},
   "source": [
    "Now, we are going to calculate the cost of each experiment, based on the number of tokens and the cost of each token. Each experiment consists of 8 runs, so we are going to calculate the cost of each run and then multiply it by 8. This only applies for the input tokens of the model, because the text embeddings is ran once.\n"
   ]
  },
  {
   "cell_type": "markdown",
   "metadata": {},
   "source": [
    "## List of prices for text embeddings\n",
    "\n",
    "- text-embedding-ada-002: $0.100 / 1M tokens\n",
    "- text-embedding-3-large: $0.130 / 1M tokens\n",
    "- text-embedding-3-small: $0.020 / 1M tokens\n"
   ]
  },
  {
   "cell_type": "code",
   "execution_count": 11,
   "metadata": {},
   "outputs": [],
   "source": [
    "text_embedding_ada_002 = 0.100 / (10**6)\n",
    "text_embedding_3_small_price_per_token = 0.02 / (10**6)\n",
    "text_embedding_3_large_price_per_token = 0.13 / (10**6)"
   ]
  },
  {
   "cell_type": "code",
   "execution_count": 12,
   "metadata": {},
   "outputs": [],
   "source": [
    "df[\"price_ada_v2\"] = df[\"number_of_tokens\"] * text_embedding_ada_002\n",
    "df[\"price_text_embedding_3_small\"] = (\n",
    "    df[\"number_of_tokens\"] * text_embedding_3_small_price_per_token\n",
    ")\n",
    "df[\"price_text_embedding_3_large\"] = (\n",
    "    df[\"number_of_tokens\"] * text_embedding_3_large_price_per_token\n",
    ")"
   ]
  },
  {
   "cell_type": "code",
   "execution_count": 13,
   "metadata": {},
   "outputs": [
    {
     "data": {
      "text/html": [
       "<div>\n",
       "<style scoped>\n",
       "    .dataframe tbody tr th:only-of-type {\n",
       "        vertical-align: middle;\n",
       "    }\n",
       "\n",
       "    .dataframe tbody tr th {\n",
       "        vertical-align: top;\n",
       "    }\n",
       "\n",
       "    .dataframe thead th {\n",
       "        text-align: right;\n",
       "    }\n",
       "</style>\n",
       "<table border=\"1\" class=\"dataframe\">\n",
       "  <thead>\n",
       "    <tr style=\"text-align: right;\">\n",
       "      <th></th>\n",
       "      <th>filename</th>\n",
       "      <th>price_ada_v2</th>\n",
       "      <th>price_text_embedding_3_small</th>\n",
       "      <th>price_text_embedding_3_large</th>\n",
       "    </tr>\n",
       "  </thead>\n",
       "  <tbody>\n",
       "    <tr>\n",
       "      <th>0</th>\n",
       "      <td>lease001.pdf</td>\n",
       "      <td>0.000922</td>\n",
       "      <td>0.000184</td>\n",
       "      <td>0.001199</td>\n",
       "    </tr>\n",
       "    <tr>\n",
       "      <th>1</th>\n",
       "      <td>lease002.pdf</td>\n",
       "      <td>0.001748</td>\n",
       "      <td>0.000350</td>\n",
       "      <td>0.002272</td>\n",
       "    </tr>\n",
       "    <tr>\n",
       "      <th>2</th>\n",
       "      <td>lease003.pdf</td>\n",
       "      <td>0.001736</td>\n",
       "      <td>0.000347</td>\n",
       "      <td>0.002256</td>\n",
       "    </tr>\n",
       "    <tr>\n",
       "      <th>3</th>\n",
       "      <td>lease004.pdf</td>\n",
       "      <td>0.009860</td>\n",
       "      <td>0.001972</td>\n",
       "      <td>0.012818</td>\n",
       "    </tr>\n",
       "    <tr>\n",
       "      <th>4</th>\n",
       "      <td>lease005.pdf</td>\n",
       "      <td>0.003114</td>\n",
       "      <td>0.000623</td>\n",
       "      <td>0.004048</td>\n",
       "    </tr>\n",
       "    <tr>\n",
       "      <th>...</th>\n",
       "      <td>...</td>\n",
       "      <td>...</td>\n",
       "      <td>...</td>\n",
       "      <td>...</td>\n",
       "    </tr>\n",
       "    <tr>\n",
       "      <th>95</th>\n",
       "      <td>lease096.pdf</td>\n",
       "      <td>0.001640</td>\n",
       "      <td>0.000328</td>\n",
       "      <td>0.002132</td>\n",
       "    </tr>\n",
       "    <tr>\n",
       "      <th>96</th>\n",
       "      <td>lease097.pdf</td>\n",
       "      <td>0.001336</td>\n",
       "      <td>0.000267</td>\n",
       "      <td>0.001736</td>\n",
       "    </tr>\n",
       "    <tr>\n",
       "      <th>97</th>\n",
       "      <td>lease098.pdf</td>\n",
       "      <td>0.000983</td>\n",
       "      <td>0.000197</td>\n",
       "      <td>0.001277</td>\n",
       "    </tr>\n",
       "    <tr>\n",
       "      <th>98</th>\n",
       "      <td>lease099.pdf</td>\n",
       "      <td>0.001554</td>\n",
       "      <td>0.000311</td>\n",
       "      <td>0.002020</td>\n",
       "    </tr>\n",
       "    <tr>\n",
       "      <th>99</th>\n",
       "      <td>lease100.pdf</td>\n",
       "      <td>0.000521</td>\n",
       "      <td>0.000104</td>\n",
       "      <td>0.000678</td>\n",
       "    </tr>\n",
       "  </tbody>\n",
       "</table>\n",
       "<p>100 rows × 4 columns</p>\n",
       "</div>"
      ],
      "text/plain": [
       "        filename  price_ada_v2  price_text_embedding_3_small  \\\n",
       "0   lease001.pdf      0.000922                      0.000184   \n",
       "1   lease002.pdf      0.001748                      0.000350   \n",
       "2   lease003.pdf      0.001736                      0.000347   \n",
       "3   lease004.pdf      0.009860                      0.001972   \n",
       "4   lease005.pdf      0.003114                      0.000623   \n",
       "..           ...           ...                           ...   \n",
       "95  lease096.pdf      0.001640                      0.000328   \n",
       "96  lease097.pdf      0.001336                      0.000267   \n",
       "97  lease098.pdf      0.000983                      0.000197   \n",
       "98  lease099.pdf      0.001554                      0.000311   \n",
       "99  lease100.pdf      0.000521                      0.000104   \n",
       "\n",
       "    price_text_embedding_3_large  \n",
       "0                       0.001199  \n",
       "1                       0.002272  \n",
       "2                       0.002256  \n",
       "3                       0.012818  \n",
       "4                       0.004048  \n",
       "..                           ...  \n",
       "95                      0.002132  \n",
       "96                      0.001736  \n",
       "97                      0.001277  \n",
       "98                      0.002020  \n",
       "99                      0.000678  \n",
       "\n",
       "[100 rows x 4 columns]"
      ]
     },
     "execution_count": 13,
     "metadata": {},
     "output_type": "execute_result"
    }
   ],
   "source": [
    "df[\n",
    "    [\n",
    "        \"filename\",\n",
    "        \"price_ada_v2\",\n",
    "        \"price_text_embedding_3_small\",\n",
    "        \"price_text_embedding_3_large\",\n",
    "    ]\n",
    "]"
   ]
  },
  {
   "cell_type": "code",
   "execution_count": 14,
   "metadata": {},
   "outputs": [],
   "source": [
    "total_price_for_embedding_docs_ada_v2 = round(df[\"price_ada_v2\"].sum(), 2)\n",
    "total_price_for_embedding_docs_text_embedding_3_small = round(\n",
    "    df[\"price_text_embedding_3_small\"].sum(), 2\n",
    ")\n",
    "total_price_for_embedding_docs_text_embedding_3_large = round(\n",
    "    df[\"price_text_embedding_3_large\"].sum(), 2\n",
    ")"
   ]
  },
  {
   "cell_type": "code",
   "execution_count": 15,
   "metadata": {},
   "outputs": [
    {
     "name": "stdout",
     "output_type": "stream",
     "text": [
      "Total price for embedding documents (ADA v2): $0.21\n",
      "Total price for embedding documents (text-embedding-3-small): $0.04\n",
      "Total price for embedding documents (text-embedding-3-large): $0.28\n"
     ]
    }
   ],
   "source": [
    "print(\n",
    "    f\"Total price for embedding documents (ADA v2): ${total_price_for_embedding_docs_ada_v2}\"\n",
    ")\n",
    "print(\n",
    "    f\"Total price for embedding documents (text-embedding-3-small): ${total_price_for_embedding_docs_text_embedding_3_small}\"\n",
    ")\n",
    "print(\n",
    "    f\"Total price for embedding documents (text-embedding-3-large): ${total_price_for_embedding_docs_text_embedding_3_large}\"\n",
    ")\n"
   ]
  },
  {
   "cell_type": "markdown",
   "metadata": {},
   "source": [
    "## List of prices for models\n",
    "\n",
    "- gpt-4o-mini: $0.150 / 1M input tokens\n",
    "- gpt-4o-2024-08-06: $2.50 / 1M input tokens\n",
    "- gpt-3.5-turbo: $0.500 / 1M input tokens\n"
   ]
  },
  {
   "cell_type": "code",
   "execution_count": 16,
   "metadata": {},
   "outputs": [],
   "source": [
    "gpt_4o_mini_price_per_token = 0.15 / (10**6)\n",
    "gpt_4o_2024_08_06_price_per_token = 2.50 / (10**6)\n",
    "gpt_3_5_turbo_price_per_token = 0.50 / (10**6)"
   ]
  },
  {
   "cell_type": "code",
   "execution_count": 17,
   "metadata": {},
   "outputs": [],
   "source": [
    "df[\"price_per_experiment_gpt_4o_mini\"] = (\n",
    "    df[\"number_of_tokens\"] * gpt_4o_mini_price_per_token\n",
    ")\n",
    "df[\"price_per_experiment_gpt_4o_2024_08_06\"] = (\n",
    "    df[\"number_of_tokens\"] * gpt_4o_2024_08_06_price_per_token\n",
    ")\n",
    "df[\"price_per_experiment_gpt_3_5_turbo\"] = (\n",
    "    df[\"number_of_tokens\"] * gpt_3_5_turbo_price_per_token\n",
    ")"
   ]
  },
  {
   "cell_type": "code",
   "execution_count": 18,
   "metadata": {},
   "outputs": [
    {
     "data": {
      "text/html": [
       "<div>\n",
       "<style scoped>\n",
       "    .dataframe tbody tr th:only-of-type {\n",
       "        vertical-align: middle;\n",
       "    }\n",
       "\n",
       "    .dataframe tbody tr th {\n",
       "        vertical-align: top;\n",
       "    }\n",
       "\n",
       "    .dataframe thead th {\n",
       "        text-align: right;\n",
       "    }\n",
       "</style>\n",
       "<table border=\"1\" class=\"dataframe\">\n",
       "  <thead>\n",
       "    <tr style=\"text-align: right;\">\n",
       "      <th></th>\n",
       "      <th>filename</th>\n",
       "      <th>price_per_experiment_gpt_4o_mini</th>\n",
       "      <th>price_per_experiment_gpt_4o_2024_08_06</th>\n",
       "      <th>price_per_experiment_gpt_3_5_turbo</th>\n",
       "    </tr>\n",
       "  </thead>\n",
       "  <tbody>\n",
       "    <tr>\n",
       "      <th>0</th>\n",
       "      <td>lease001.pdf</td>\n",
       "      <td>0.001383</td>\n",
       "      <td>0.023053</td>\n",
       "      <td>0.004611</td>\n",
       "    </tr>\n",
       "    <tr>\n",
       "      <th>1</th>\n",
       "      <td>lease002.pdf</td>\n",
       "      <td>0.002622</td>\n",
       "      <td>0.043698</td>\n",
       "      <td>0.008739</td>\n",
       "    </tr>\n",
       "    <tr>\n",
       "      <th>2</th>\n",
       "      <td>lease003.pdf</td>\n",
       "      <td>0.002603</td>\n",
       "      <td>0.043390</td>\n",
       "      <td>0.008678</td>\n",
       "    </tr>\n",
       "    <tr>\n",
       "      <th>3</th>\n",
       "      <td>lease004.pdf</td>\n",
       "      <td>0.014790</td>\n",
       "      <td>0.246495</td>\n",
       "      <td>0.049299</td>\n",
       "    </tr>\n",
       "    <tr>\n",
       "      <th>4</th>\n",
       "      <td>lease005.pdf</td>\n",
       "      <td>0.004671</td>\n",
       "      <td>0.077845</td>\n",
       "      <td>0.015569</td>\n",
       "    </tr>\n",
       "    <tr>\n",
       "      <th>...</th>\n",
       "      <td>...</td>\n",
       "      <td>...</td>\n",
       "      <td>...</td>\n",
       "      <td>...</td>\n",
       "    </tr>\n",
       "    <tr>\n",
       "      <th>95</th>\n",
       "      <td>lease096.pdf</td>\n",
       "      <td>0.002460</td>\n",
       "      <td>0.040995</td>\n",
       "      <td>0.008199</td>\n",
       "    </tr>\n",
       "    <tr>\n",
       "      <th>96</th>\n",
       "      <td>lease097.pdf</td>\n",
       "      <td>0.002003</td>\n",
       "      <td>0.033390</td>\n",
       "      <td>0.006678</td>\n",
       "    </tr>\n",
       "    <tr>\n",
       "      <th>97</th>\n",
       "      <td>lease098.pdf</td>\n",
       "      <td>0.001474</td>\n",
       "      <td>0.024565</td>\n",
       "      <td>0.004913</td>\n",
       "    </tr>\n",
       "    <tr>\n",
       "      <th>98</th>\n",
       "      <td>lease099.pdf</td>\n",
       "      <td>0.002331</td>\n",
       "      <td>0.038848</td>\n",
       "      <td>0.007769</td>\n",
       "    </tr>\n",
       "    <tr>\n",
       "      <th>99</th>\n",
       "      <td>lease100.pdf</td>\n",
       "      <td>0.000782</td>\n",
       "      <td>0.013033</td>\n",
       "      <td>0.002606</td>\n",
       "    </tr>\n",
       "  </tbody>\n",
       "</table>\n",
       "<p>100 rows × 4 columns</p>\n",
       "</div>"
      ],
      "text/plain": [
       "        filename  price_per_experiment_gpt_4o_mini  \\\n",
       "0   lease001.pdf                          0.001383   \n",
       "1   lease002.pdf                          0.002622   \n",
       "2   lease003.pdf                          0.002603   \n",
       "3   lease004.pdf                          0.014790   \n",
       "4   lease005.pdf                          0.004671   \n",
       "..           ...                               ...   \n",
       "95  lease096.pdf                          0.002460   \n",
       "96  lease097.pdf                          0.002003   \n",
       "97  lease098.pdf                          0.001474   \n",
       "98  lease099.pdf                          0.002331   \n",
       "99  lease100.pdf                          0.000782   \n",
       "\n",
       "    price_per_experiment_gpt_4o_2024_08_06  price_per_experiment_gpt_3_5_turbo  \n",
       "0                                 0.023053                            0.004611  \n",
       "1                                 0.043698                            0.008739  \n",
       "2                                 0.043390                            0.008678  \n",
       "3                                 0.246495                            0.049299  \n",
       "4                                 0.077845                            0.015569  \n",
       "..                                     ...                                 ...  \n",
       "95                                0.040995                            0.008199  \n",
       "96                                0.033390                            0.006678  \n",
       "97                                0.024565                            0.004913  \n",
       "98                                0.038848                            0.007769  \n",
       "99                                0.013033                            0.002606  \n",
       "\n",
       "[100 rows x 4 columns]"
      ]
     },
     "execution_count": 18,
     "metadata": {},
     "output_type": "execute_result"
    }
   ],
   "source": [
    "df[\n",
    "    [\n",
    "        \"filename\",\n",
    "        \"price_per_experiment_gpt_4o_mini\",\n",
    "        \"price_per_experiment_gpt_4o_2024_08_06\",\n",
    "        \"price_per_experiment_gpt_3_5_turbo\",\n",
    "    ]\n",
    "]"
   ]
  },
  {
   "cell_type": "code",
   "execution_count": 19,
   "metadata": {},
   "outputs": [],
   "source": [
    "price_per_experiment_gpt_4o_mini = round(\n",
    "    df[\"price_per_experiment_gpt_4o_mini\"].sum(), 2\n",
    ")\n",
    "price_per_experiment_gpt_4o_2024_08_06 = round(\n",
    "    df[\"price_per_experiment_gpt_4o_2024_08_06\"].sum(), 2\n",
    ")\n",
    "price_per_experiment_gpt_3_5_turbo = round(\n",
    "    df[\"price_per_experiment_gpt_3_5_turbo\"].sum(), 2\n",
    ")"
   ]
  },
  {
   "cell_type": "code",
   "execution_count": 20,
   "metadata": {},
   "outputs": [
    {
     "name": "stdout",
     "output_type": "stream",
     "text": [
      "Price per experiment (GPT-4o-mini): $0.32\n",
      "Price per experiment (GPT-4o-2024-08-06): $5.29\n",
      "Price per experiment (GPT-3.5-turbo): $1.06\n"
     ]
    }
   ],
   "source": [
    "print(f\"Price per experiment (GPT-4o-mini): ${price_per_experiment_gpt_4o_mini}\")\n",
    "print(\n",
    "    f\"Price per experiment (GPT-4o-2024-08-06): ${price_per_experiment_gpt_4o_2024_08_06}\"\n",
    ")\n",
    "print(f\"Price per experiment (GPT-3.5-turbo): ${price_per_experiment_gpt_3_5_turbo}\")"
   ]
  },
  {
   "cell_type": "code",
   "execution_count": 21,
   "metadata": {},
   "outputs": [],
   "source": [
    "total_price_gpt_4o_mini = price_per_experiment_gpt_4o_mini * 8\n",
    "total_price_gpt_4o_2024_08_06 = price_per_experiment_gpt_4o_2024_08_06 * 8\n",
    "total_price_gpt_3_5_turbo = price_per_experiment_gpt_3_5_turbo * 8"
   ]
  },
  {
   "cell_type": "code",
   "execution_count": 22,
   "metadata": {},
   "outputs": [
    {
     "name": "stdout",
     "output_type": "stream",
     "text": [
      "Total price (GPT-4o-mini): $2.56\n",
      "Total price (GPT-4o-2024-08-06): $42.32\n",
      "Total price (GPT-3.5-turbo): $8.48\n"
     ]
    }
   ],
   "source": [
    "print(f\"Total price (GPT-4o-mini): ${total_price_gpt_4o_mini}\")\n",
    "print(f\"Total price (GPT-4o-2024-08-06): ${total_price_gpt_4o_2024_08_06}\")\n",
    "print(f\"Total price (GPT-3.5-turbo): ${total_price_gpt_3_5_turbo}\")\n"
   ]
  },
  {
   "cell_type": "code",
   "execution_count": null,
   "metadata": {},
   "outputs": [],
   "source": []
  }
 ],
 "metadata": {
  "kernelspec": {
   "display_name": ".venv",
   "language": "python",
   "name": "python3"
  },
  "language_info": {
   "codemirror_mode": {
    "name": "ipython",
    "version": 3
   },
   "file_extension": ".py",
   "mimetype": "text/x-python",
   "name": "python",
   "nbconvert_exporter": "python",
   "pygments_lexer": "ipython3",
   "version": "3.11.8"
  }
 },
 "nbformat": 4,
 "nbformat_minor": 2
}
