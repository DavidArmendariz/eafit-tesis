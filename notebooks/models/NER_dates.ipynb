{
 "cells": [
  {
   "cell_type": "code",
   "execution_count": 4,
   "metadata": {},
   "outputs": [],
   "source": [
    "import spacy\n",
    "import PyPDF2"
   ]
  },
  {
   "cell_type": "code",
   "execution_count": 5,
   "metadata": {},
   "outputs": [],
   "source": [
    "nlp = spacy.load(\"en_core_web_sm\")"
   ]
  },
  {
   "cell_type": "code",
   "execution_count": 6,
   "metadata": {},
   "outputs": [],
   "source": [
    "def extract_text_from_pdf(pdf_path):\n",
    "    with open(pdf_path, 'rb') as file:\n",
    "        reader = PyPDF2.PdfReader(file)\n",
    "        text = ''\n",
    "        for page in reader.pages:\n",
    "            text += page.extract_text()\n",
    "    return text"
   ]
  },
  {
   "cell_type": "code",
   "execution_count": 7,
   "metadata": {},
   "outputs": [],
   "source": [
    "pdf_path = f\"../../data/asc_842/lease_agreements/lease001.pdf\"\n",
    "pdf_text = extract_text_from_pdf(pdf_path)"
   ]
  },
  {
   "cell_type": "code",
   "execution_count": 10,
   "metadata": {},
   "outputs": [
    {
     "name": "stdout",
     "output_type": "stream",
     "text": [
      "25\n",
      "\tday DATE\n",
      "January DATE\n",
      "2022 DATE\n",
      "1348 DATE\n",
      "1348 DATE\n",
      "annually DATE\n",
      "12-month DATE\n",
      "5)\n",
      "year DATE\n",
      "monthly DATE\n",
      "MAY DATE\n",
      "MAY DATE\n",
      "MAY DATE\n",
      "4 DATE\n",
      "5 DATE\n",
      "30\tdays DATE\n",
      "42 DATE\n",
      "30\tdays' DATE\n",
      "7 DATE\n",
      "1/25/2022 DATE\n",
      "1/25/2022 DATE\n"
     ]
    }
   ],
   "source": [
    "doc = nlp(pdf_text)\n",
    "for ent in doc.ents:\n",
    "    if ent.label_ == 'DATE':\n",
    "        print(ent, ent.label_)"
   ]
  }
 ],
 "metadata": {
  "kernelspec": {
   "display_name": ".venv",
   "language": "python",
   "name": "python3"
  },
  "language_info": {
   "codemirror_mode": {
    "name": "ipython",
    "version": 3
   },
   "file_extension": ".py",
   "mimetype": "text/x-python",
   "name": "python",
   "nbconvert_exporter": "python",
   "pygments_lexer": "ipython3",
   "version": "3.11.5"
  }
 },
 "nbformat": 4,
 "nbformat_minor": 2
}
