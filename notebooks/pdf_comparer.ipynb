{
 "cells": [
  {
   "cell_type": "code",
   "execution_count": 90,
   "metadata": {},
   "outputs": [],
   "source": [
    "import os\n",
    "\n",
    "import PyPDF2"
   ]
  },
  {
   "cell_type": "code",
   "execution_count": 91,
   "metadata": {},
   "outputs": [],
   "source": [
    "def compare_pdfs(file1, file2):\n",
    "    pdf1 = PyPDF2.PdfReader(open(file1, \"rb\"))\n",
    "    pdf2 = PyPDF2.PdfReader(open(file2, \"rb\"))\n",
    "    if len(pdf1.pages) != len(pdf2.pages):\n",
    "        return False\n",
    "    for i in range(len(pdf1.pages)):\n",
    "        page1 = pdf1.pages[i]\n",
    "        page2 = pdf2.pages[i]\n",
    "        if page1.extract_text() != page2.extract_text():\n",
    "            return False\n",
    "    return True"
   ]
  },
  {
   "cell_type": "code",
   "execution_count": 92,
   "metadata": {},
   "outputs": [],
   "source": [
    "def compare_all_pdfs_in_folder(folder_path):\n",
    "    pdf_files = [\n",
    "        os.path.join(folder_path, f)\n",
    "        for f in os.listdir(folder_path)\n",
    "        if f.endswith(\".pdf\")\n",
    "    ]\n",
    "    identical_files = []\n",
    "    compared = set()\n",
    "\n",
    "    for i in range(len(pdf_files)):\n",
    "        for j in range(i + 1, len(pdf_files)):\n",
    "            file1 = pdf_files[i]\n",
    "            file2 = pdf_files[j]\n",
    "            pair = (file1, file2)\n",
    "            if pair not in compared:\n",
    "                if compare_pdfs(file1, file2):\n",
    "                    identical_files.append((file1, file2))\n",
    "                compared.add(pair)\n",
    "\n",
    "    return identical_files"
   ]
  },
  {
   "cell_type": "code",
   "execution_count": 93,
   "metadata": {},
   "outputs": [],
   "source": [
    "folder_path = \"data\"\n",
    "identical_files = compare_all_pdfs_in_folder(folder_path)\n",
    "for file1, file2 in identical_files:\n",
    "    print(f\"{file1} is identical to {file2}\")"
   ]
  },
  {
   "cell_type": "code",
   "execution_count": 94,
   "metadata": {},
   "outputs": [
    {
     "data": {
      "text/plain": [
       "[]"
      ]
     },
     "execution_count": 94,
     "metadata": {},
     "output_type": "execute_result"
    }
   ],
   "source": [
    "identical_files"
   ]
  },
  {
   "cell_type": "code",
   "execution_count": 95,
   "metadata": {},
   "outputs": [],
   "source": [
    "def delete_duplicates(identical_files):\n",
    "    did_delete_files = False\n",
    "    deleted_files = set()\n",
    "    for _, file2 in identical_files:\n",
    "        if file2 not in deleted_files:\n",
    "            os.remove(file2)\n",
    "            deleted_files.add(file2)\n",
    "            print(f\"Deleted duplicate file: {file2}\")\n",
    "            did_delete_files = True\n",
    "    return did_delete_files"
   ]
  },
  {
   "cell_type": "code",
   "execution_count": 96,
   "metadata": {},
   "outputs": [],
   "source": [
    "did_delete_files = delete_duplicates(identical_files)"
   ]
  },
  {
   "cell_type": "code",
   "execution_count": 97,
   "metadata": {},
   "outputs": [],
   "source": [
    "def rename_pdfs(folder_path, prefix=\"lease\"):\n",
    "    files = os.listdir(folder_path)\n",
    "    pdf_files = sorted([f for f in files if f.endswith(\".pdf\")])\n",
    "\n",
    "    for index, filename in enumerate(pdf_files, start=1):\n",
    "        if index < 10:\n",
    "            new_name = f\"{prefix}00{index}.pdf\"\n",
    "        elif index < 100:\n",
    "            new_name = f\"{prefix}0{index}.pdf\"\n",
    "        else:\n",
    "            new_name = f\"{prefix}{index}.pdf\"\n",
    "        old_path = os.path.join(folder_path, filename)\n",
    "        new_path = os.path.join(folder_path, new_name)\n",
    "        os.rename(old_path, new_path)\n",
    "\n",
    "    print(\"Renaming complete!\")"
   ]
  },
  {
   "cell_type": "code",
   "execution_count": 98,
   "metadata": {},
   "outputs": [],
   "source": [
    "if did_delete_files:\n",
    "    rename_pdfs(\"data\")"
   ]
  }
 ],
 "metadata": {
  "kernelspec": {
   "display_name": ".venv",
   "language": "python",
   "name": "python3"
  },
  "language_info": {
   "codemirror_mode": {
    "name": "ipython",
    "version": 3
   },
   "file_extension": ".py",
   "mimetype": "text/x-python",
   "name": "python",
   "nbconvert_exporter": "python",
   "pygments_lexer": "ipython3",
   "version": "3.11.8"
  }
 },
 "nbformat": 4,
 "nbformat_minor": 2
}
