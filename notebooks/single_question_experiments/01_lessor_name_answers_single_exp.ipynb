{
 "cells": [
  {
   "cell_type": "code",
   "execution_count": 11,
   "metadata": {},
   "outputs": [
    {
     "name": "stdout",
     "output_type": "stream",
     "text": [
      "The autoreload extension is already loaded. To reload it, use:\n",
      "  %reload_ext autoreload\n"
     ]
    }
   ],
   "source": [
    "%load_ext autoreload\n",
    "%autoreload 2"
   ]
  },
  {
   "cell_type": "code",
   "execution_count": 12,
   "metadata": {},
   "outputs": [],
   "source": [
    "import os\n",
    "import sys"
   ]
  },
  {
   "cell_type": "code",
   "execution_count": 13,
   "metadata": {},
   "outputs": [],
   "source": [
    "sys.path.append(os.path.abspath(os.path.join(\"../..\")))"
   ]
  },
  {
   "cell_type": "code",
   "execution_count": 14,
   "metadata": {},
   "outputs": [],
   "source": [
    "import numpy as np\n",
    "import pandas as pd\n",
    "from fuzzywuzzy import fuzz\n",
    "\n",
    "from notebooks.utils.constants import (\n",
    "    AvailableEmbeddingModels,\n",
    "    AvailableModels,\n",
    "    question_ids_map,\n",
    ")\n",
    "from notebooks.utils.process_lease import process_lease\n",
    "from notebooks.utils.questions import (\n",
    "    construct_single_question_for_ai,\n",
    ")"
   ]
  },
  {
   "cell_type": "markdown",
   "metadata": {},
   "source": [
    "## Threshold for Levenshtein distance\n"
   ]
  },
  {
   "cell_type": "code",
   "execution_count": 15,
   "metadata": {},
   "outputs": [],
   "source": [
    "threshold = 80"
   ]
  },
  {
   "cell_type": "markdown",
   "metadata": {},
   "source": [
    "Retrieve questions\n"
   ]
  },
  {
   "cell_type": "code",
   "execution_count": 16,
   "metadata": {},
   "outputs": [],
   "source": [
    "questions_df = pd.read_excel(\"../../data/asc_842/grt_ai_reader_questions_v1.xlsx\")\n",
    "questions_df = questions_df.drop([\"encoding\"], axis=1)\n",
    "questions_df = questions_df.replace({np.nan: None})"
   ]
  },
  {
   "cell_type": "markdown",
   "metadata": {},
   "source": [
    "Retrieve answers file\n"
   ]
  },
  {
   "cell_type": "code",
   "execution_count": 17,
   "metadata": {},
   "outputs": [],
   "source": [
    "answers_df = pd.read_excel(\"../../data/asc_842/lease_agreements_info/answers.xlsx\")"
   ]
  },
  {
   "cell_type": "markdown",
   "metadata": {},
   "source": [
    "Get questions to send to the AI\n"
   ]
  },
  {
   "cell_type": "code",
   "execution_count": 18,
   "metadata": {},
   "outputs": [],
   "source": [
    "question_id = question_ids_map[\"lessor_name\"]\n",
    "question_df_filtered = questions_df[questions_df[\"id\"] == question_id]\n",
    "question_as_json = question_df_filtered.to_dict(orient=\"records\")[0]\n",
    "question_for_ai = construct_single_question_for_ai(question_as_json)"
   ]
  },
  {
   "cell_type": "code",
   "execution_count": 19,
   "metadata": {},
   "outputs": [],
   "source": [
    "file_name = \"lease001\"\n",
    "local_file = f\"../../data/asc_842/lease_agreements/{file_name}.pdf\"\n",
    "file_key = f\"eafit/{file_name}.pdf\"\n",
    "namespace = f\"eafit_{file_name}\""
   ]
  },
  {
   "cell_type": "code",
   "execution_count": 20,
   "metadata": {},
   "outputs": [],
   "source": [
    "model: AvailableModels = \"gpt-3.5-turbo\"\n",
    "embedding_model: AvailableEmbeddingModels = \"text-embedding-3-large\""
   ]
  },
  {
   "cell_type": "code",
   "execution_count": 21,
   "metadata": {},
   "outputs": [],
   "source": [
    "result = process_lease(\n",
    "    file_name=file_name,\n",
    "    namespace=namespace,\n",
    "    question_for_ai=question_for_ai,\n",
    "    question_id=question_id,\n",
    "    answers_df=answers_df,\n",
    "    model=model,\n",
    "    embedding_model=embedding_model,\n",
    "    index_name=\"eafit-text-embedding-3-large\",\n",
    ")"
   ]
  },
  {
   "cell_type": "code",
   "execution_count": 22,
   "metadata": {},
   "outputs": [],
   "source": [
    "answer = result[\"answer\"]\n",
    "real_answer_unprocessed = result[\"real_answer_unprocessed\"]"
   ]
  },
  {
   "cell_type": "code",
   "execution_count": 23,
   "metadata": {},
   "outputs": [
    {
     "data": {
      "text/plain": [
       "['Kyle J. Beller']"
      ]
     },
     "execution_count": 23,
     "metadata": {},
     "output_type": "execute_result"
    }
   ],
   "source": [
    "answer"
   ]
  },
  {
   "cell_type": "code",
   "execution_count": 24,
   "metadata": {},
   "outputs": [],
   "source": [
    "similarity_score = fuzz.ratio(\n",
    "    answer[0].lower(), real_answer_unprocessed.iloc[0].lower()\n",
    ")"
   ]
  },
  {
   "cell_type": "code",
   "execution_count": 25,
   "metadata": {},
   "outputs": [
    {
     "data": {
      "text/plain": [
       "False"
      ]
     },
     "execution_count": 25,
     "metadata": {},
     "output_type": "execute_result"
    }
   ],
   "source": [
    "similarity_score >= threshold"
   ]
  },
  {
   "cell_type": "code",
   "execution_count": null,
   "metadata": {},
   "outputs": [],
   "source": []
  }
 ],
 "metadata": {
  "kernelspec": {
   "display_name": ".venv",
   "language": "python",
   "name": "python3"
  },
  "language_info": {
   "codemirror_mode": {
    "name": "ipython",
    "version": 3
   },
   "file_extension": ".py",
   "mimetype": "text/x-python",
   "name": "python",
   "nbconvert_exporter": "python",
   "pygments_lexer": "ipython3",
   "version": "3.11.8"
  }
 },
 "nbformat": 4,
 "nbformat_minor": 2
}
