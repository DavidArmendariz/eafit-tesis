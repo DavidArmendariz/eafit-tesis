{
 "cells": [
  {
   "cell_type": "code",
   "execution_count": 1,
   "metadata": {},
   "outputs": [],
   "source": [
    "%load_ext autoreload\n",
    "%autoreload 2"
   ]
  },
  {
   "cell_type": "code",
   "execution_count": 2,
   "metadata": {},
   "outputs": [],
   "source": [
    "import os\n",
    "import sys"
   ]
  },
  {
   "cell_type": "markdown",
   "metadata": {},
   "source": [
    "Append the `grt_reader` repo so we can read modules from sibling directories.\n"
   ]
  },
  {
   "cell_type": "code",
   "execution_count": 3,
   "metadata": {},
   "outputs": [],
   "source": [
    "sys.path.append(os.path.abspath(os.path.join(\"..\")))"
   ]
  },
  {
   "cell_type": "code",
   "execution_count": 4,
   "metadata": {},
   "outputs": [
    {
     "name": "stderr",
     "output_type": "stream",
     "text": [
      "/Users/david/grt/grt_reader/.venv/lib/python3.11/site-packages/pinecone/data/index.py:1: TqdmWarning: IProgress not found. Please update jupyter and ipywidgets. See https://ipywidgets.readthedocs.io/en/stable/user_install.html\n",
      "  from tqdm.autonotebook import tqdm\n"
     ]
    }
   ],
   "source": [
    "import numpy as np\n",
    "import pandas as pd\n",
    "from utils.constants import question_ids_map\n",
    "from utils.questions import (\n",
    "    construct_single_question_for_ai,\n",
    ")\n",
    "\n",
    "from notebooks.utils.process_lease import process_lease"
   ]
  },
  {
   "cell_type": "code",
   "execution_count": 5,
   "metadata": {},
   "outputs": [],
   "source": [
    "bucket_name = os.getenv(\"BUCKET_NAME\", \"\")\n",
    "index_name = os.getenv(\"INDEX_NAME\", \"\")"
   ]
  },
  {
   "cell_type": "code",
   "execution_count": 6,
   "metadata": {},
   "outputs": [
    {
     "name": "stdout",
     "output_type": "stream",
     "text": [
      "Bucket name: gaaprt-reader-dev\n",
      "Index name: development-gaaprt-reader-openai\n"
     ]
    }
   ],
   "source": [
    "print(f\"Bucket name: {bucket_name}\")\n",
    "print(f\"Index name: {index_name}\")"
   ]
  },
  {
   "cell_type": "markdown",
   "metadata": {},
   "source": [
    "Retrieve questions\n"
   ]
  },
  {
   "cell_type": "code",
   "execution_count": 7,
   "metadata": {},
   "outputs": [],
   "source": [
    "questions_df = pd.read_excel(\"../data/asc_842/grt_ai_reader_questions_v1.xlsx\")\n",
    "questions_df = questions_df.drop([\"encoding\"], axis=1)\n",
    "questions_df = questions_df.replace({np.nan: None})"
   ]
  },
  {
   "cell_type": "markdown",
   "metadata": {},
   "source": [
    "Retrieve answers file\n"
   ]
  },
  {
   "cell_type": "code",
   "execution_count": 8,
   "metadata": {},
   "outputs": [],
   "source": [
    "answers_df = pd.read_excel(\"../data/asc_842/lease_agreements_info/answers.xlsx\")"
   ]
  },
  {
   "cell_type": "markdown",
   "metadata": {},
   "source": [
    "Get questions to send to the AI\n"
   ]
  },
  {
   "cell_type": "code",
   "execution_count": 9,
   "metadata": {},
   "outputs": [],
   "source": [
    "question_id = question_ids_map[\"option_to_extend\"]\n",
    "question_df_filtered = questions_df[questions_df[\"id\"] == question_id]\n",
    "question_as_json = question_df_filtered.to_dict(orient=\"records\")[0]\n",
    "question_for_ai = construct_single_question_for_ai(question_as_json)"
   ]
  },
  {
   "cell_type": "code",
   "execution_count": 10,
   "metadata": {},
   "outputs": [],
   "source": [
    "file_name = \"lease001\"\n",
    "local_file = f\"../data/asc_842/lease_agreements/{file_name}.pdf\"\n",
    "file_key = f\"eafit/{file_name}.pdf\"\n",
    "namespace = f\"eafit_{file_name}\""
   ]
  },
  {
   "cell_type": "code",
   "execution_count": 14,
   "metadata": {},
   "outputs": [
    {
     "name": "stdout",
     "output_type": "stream",
     "text": [
      "Upload Successful: eafit/lease001.pdf\n",
      "Stored eafit/lease001.pdf in vector database with namespace eafit_lease001\n"
     ]
    }
   ],
   "source": [
    "result = process_lease(\n",
    "    local_file=local_file,\n",
    "    file_name=file_name,\n",
    "    file_key=file_key,\n",
    "    namespace=namespace,\n",
    "    question_for_ai=question_for_ai,\n",
    "    question_id=question_id,\n",
    "    answers_df=answers_df,\n",
    "    model=\"gpt-4o-mini\",\n",
    "    embedding_model=\"text-embedding-3-small\",\n",
    ")"
   ]
  },
  {
   "cell_type": "code",
   "execution_count": 15,
   "metadata": {},
   "outputs": [],
   "source": [
    "answer = result[\"answer\"]\n",
    "real_answer_unprocessed = result[\"real_answer_unprocessed\"]"
   ]
  },
  {
   "cell_type": "code",
   "execution_count": 16,
   "metadata": {},
   "outputs": [
    {
     "data": {
      "text/plain": [
       "QuestionResponse(question_id='32', answer_string=None, answer_boolean='0', answer_date=None, meta='The lease agreement states that the term shall expire on the five (5) year anniversary of the Rent Commencement Date, indicating there is no option to extend the lease beyond this period.')"
      ]
     },
     "execution_count": 16,
     "metadata": {},
     "output_type": "execute_result"
    }
   ],
   "source": [
    "answer"
   ]
  },
  {
   "cell_type": "code",
   "execution_count": 15,
   "metadata": {},
   "outputs": [
    {
     "data": {
      "text/plain": [
       "0.0"
      ]
     },
     "execution_count": 15,
     "metadata": {},
     "output_type": "execute_result"
    }
   ],
   "source": [
    "float(answer)"
   ]
  },
  {
   "cell_type": "code",
   "execution_count": 16,
   "metadata": {},
   "outputs": [
    {
     "data": {
      "text/plain": [
       "0.0"
      ]
     },
     "execution_count": 16,
     "metadata": {},
     "output_type": "execute_result"
    }
   ],
   "source": [
    "real_answer_unprocessed.iloc[0]"
   ]
  },
  {
   "cell_type": "code",
   "execution_count": 17,
   "metadata": {},
   "outputs": [
    {
     "data": {
      "text/plain": [
       "True"
      ]
     },
     "execution_count": 17,
     "metadata": {},
     "output_type": "execute_result"
    }
   ],
   "source": [
    "float(answer) == real_answer_unprocessed.iloc[0]"
   ]
  }
 ],
 "metadata": {
  "kernelspec": {
   "display_name": ".venv",
   "language": "python",
   "name": "python3"
  },
  "language_info": {
   "codemirror_mode": {
    "name": "ipython",
    "version": 3
   },
   "file_extension": ".py",
   "mimetype": "text/x-python",
   "name": "python",
   "nbconvert_exporter": "python",
   "pygments_lexer": "ipython3",
   "version": "3.11.5"
  }
 },
 "nbformat": 4,
 "nbformat_minor": 2
}
